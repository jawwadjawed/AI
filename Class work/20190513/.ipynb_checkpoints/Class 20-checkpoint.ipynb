{
 "cells": [
  {
   "cell_type": "code",
   "execution_count": null,
   "metadata": {},
   "outputs": [],
   "source": [
    "def couples(hName, wName):\n",
    "    print(\"The name of husband is\", hName,\n",
    "         \"and the name of wife is\", wName, \".\");\n",
    "    \n",
    "    print(f\"The name of husband is {hName} and the name of wife is {wName}.\");\n",
    "    print(\"The name of husband is {0} and the name of wife is {1}.\".format(hName, wName));\n",
    "    \n",
    "couples(wName=\"fatima\", hName=\"aslam\");"
   ]
  },
  {
   "cell_type": "markdown",
   "metadata": {},
   "source": [
    "### Calculator"
   ]
  },
  {
   "cell_type": "code",
   "execution_count": 6,
   "metadata": {},
   "outputs": [
    {
     "name": "stdout",
     "output_type": "stream",
     "text": [
      "Select operator or press q for exit/\n",
      "Enter first number 12\n",
      "Enter second number 3.5\n",
      "3.4285714285714284\n",
      "Select operator or press q for exitq\n"
     ]
    }
   ],
   "source": [
    "while True:\n",
    "    operator = input(\"Select operator or press q for exit\");\n",
    "    \n",
    "    if (operator.upper() == \"Q\"):\n",
    "        break;    \n",
    "    \n",
    "    firstNumber = float(input(\"Enter first number \"));\n",
    "    secondNumber = float(input(\"Enter second number \"));\n",
    "\n",
    "    def Calculate(firstNumber, secondNumber, operator):\n",
    "        result = 0;\n",
    "        if (operator == \"+\"):\n",
    "            result = firstNumber + secondNumber;\n",
    "        elif operator == \"-\":\n",
    "            result = firstNumber - secondNumber;\n",
    "        elif operator == \"/\":\n",
    "            result = firstNumber / secondNumber;\n",
    "        elif operator == \"*\":\n",
    "            result = firstNumber * secondNumber;\n",
    "        else:\n",
    "            result = \"Invalid operator\";\n",
    "\n",
    "        import math;\n",
    "        \n",
    "        if math.modf(result)[0] != 0:\n",
    "            return result;\n",
    "        else:\n",
    "            return int(result);\n",
    "\n",
    "    print(Calculate(firstNumber, secondNumber, operator));\n",
    "    "
   ]
  },
  {
   "cell_type": "code",
   "execution_count": null,
   "metadata": {},
   "outputs": [],
   "source": [
    "2 + 2.5"
   ]
  },
  {
   "cell_type": "code",
   "execution_count": null,
   "metadata": {},
   "outputs": [],
   "source": [
    "import math"
   ]
  },
  {
   "cell_type": "code",
   "execution_count": 3,
   "metadata": {},
   "outputs": [
    {
     "data": {
      "text/plain": [
       "0.0"
      ]
     },
     "execution_count": 3,
     "metadata": {},
     "output_type": "execute_result"
    }
   ],
   "source": [
    "a = math.modf(12)\n",
    "a[0]"
   ]
  },
  {
   "cell_type": "code",
   "execution_count": 15,
   "metadata": {},
   "outputs": [
    {
     "ename": "TypeError",
     "evalue": "'function' object is not iterable",
     "output_type": "error",
     "traceback": [
      "\u001b[1;31m---------------------------------------------------------------------------\u001b[0m",
      "\u001b[1;31mTypeError\u001b[0m                                 Traceback (most recent call last)",
      "\u001b[1;32m<ipython-input-15-b82a22cb6c64>\u001b[0m in \u001b[0;36m<module>\u001b[1;34m\u001b[0m\n\u001b[0;32m      7\u001b[0m \u001b[1;33m\u001b[0m\u001b[0m\n\u001b[0;32m      8\u001b[0m \u001b[1;31m# a = [\"uzair\", \"ashraf\", 25, \"M\"]\u001b[0m\u001b[1;33m\u001b[0m\u001b[1;33m\u001b[0m\u001b[1;33m\u001b[0m\u001b[0m\n\u001b[1;32m----> 9\u001b[1;33m \u001b[0mmyInfo\u001b[0m\u001b[1;33m(\u001b[0m\u001b[1;34m\"uzair\"\u001b[0m\u001b[1;33m,\u001b[0m \u001b[1;34m\"ashraf\"\u001b[0m\u001b[1;33m,\u001b[0m \u001b[1;36m25\u001b[0m\u001b[1;33m,\u001b[0m \u001b[1;34m\"M\"\u001b[0m\u001b[1;33m)\u001b[0m\u001b[1;33m\u001b[0m\u001b[1;33m\u001b[0m\u001b[0m\n\u001b[0m",
      "\u001b[1;32m<ipython-input-15-b82a22cb6c64>\u001b[0m in \u001b[0;36mmyInfo\u001b[1;34m(fName, lName, age, gender)\u001b[0m\n\u001b[0;32m      2\u001b[0m \u001b[1;33m\u001b[0m\u001b[0m\n\u001b[0;32m      3\u001b[0m \u001b[1;32mdef\u001b[0m \u001b[0mmyInfo\u001b[0m\u001b[1;33m(\u001b[0m\u001b[0mfName\u001b[0m\u001b[1;33m,\u001b[0m \u001b[0mlName\u001b[0m\u001b[1;33m,\u001b[0m \u001b[0mage\u001b[0m\u001b[1;33m,\u001b[0m \u001b[0mgender\u001b[0m\u001b[1;33m)\u001b[0m\u001b[1;33m:\u001b[0m\u001b[1;33m\u001b[0m\u001b[1;33m\u001b[0m\u001b[0m\n\u001b[1;32m----> 4\u001b[1;33m     \u001b[1;32mfor\u001b[0m \u001b[0mvar\u001b[0m \u001b[1;32min\u001b[0m \u001b[0mmyInfo\u001b[0m\u001b[1;33m:\u001b[0m\u001b[1;33m\u001b[0m\u001b[1;33m\u001b[0m\u001b[0m\n\u001b[0m\u001b[0;32m      5\u001b[0m         \u001b[0mprint\u001b[0m\u001b[1;33m(\u001b[0m\u001b[1;34mf\"My first name is {var.title()}\"\u001b[0m\u001b[1;33m)\u001b[0m\u001b[1;33m;\u001b[0m\u001b[1;33m\u001b[0m\u001b[1;33m\u001b[0m\u001b[0m\n\u001b[0;32m      6\u001b[0m         \u001b[0mprint\u001b[0m\u001b[1;33m(\u001b[0m\u001b[1;34mf\"My last name is {var.title()}\"\u001b[0m\u001b[1;33m)\u001b[0m\u001b[1;33m;\u001b[0m\u001b[1;33m\u001b[0m\u001b[1;33m\u001b[0m\u001b[0m\n",
      "\u001b[1;31mTypeError\u001b[0m: 'function' object is not iterable"
     ]
    }
   ],
   "source": [
    "# info = [\"First name\", \"Last Name\", \"Age\", \"Gender\"];\n",
    "\n",
    "def myInfo(fName, lName, age, gender):\n",
    "    for var in myInfo:\n",
    "        print(f\"My first name is {var.title()}\");\n",
    "        print(f\"My last name is {var.title()}\");\n",
    "        \n",
    "# a = [\"uzair\", \"ashraf\", 25, \"M\"]\n",
    "myInfo(\"uzair\", \"ashraf\", 25, \"M\")"
   ]
  },
  {
   "cell_type": "code",
   "execution_count": 20,
   "metadata": {},
   "outputs": [
    {
     "name": "stdout",
     "output_type": "stream",
     "text": [
      "My First name:Uzair\n",
      " My last name: ashraf\n",
      " My age is:22\n",
      " My gender is : m\n"
     ]
    }
   ],
   "source": [
    "def info(fname , lname , age , gender):\n",
    "    print(f\"My First name:{fname.title()}\\n My last name: {lname.title()}\\n My age is:{age.title()}\\n My gender is : {gender.title()}\")\n",
    "    \n",
    "    \n",
    "info(\"uzair\" , 'ashraf',  22 , 'm')   "
   ]
  },
  {
   "cell_type": "code",
   "execution_count": 21,
   "metadata": {},
   "outputs": [],
   "source": [
    "def my_info(a):\n",
    "    for info in a:\n",
    "        print(\"My first name is: \" , info , \"\\n My last name is \" ,  info)\n",
    "        \n",
    "a = [\"ali\" , 'ahsan']        "
   ]
  },
  {
   "cell_type": "code",
   "execution_count": 22,
   "metadata": {},
   "outputs": [
    {
     "name": "stdout",
     "output_type": "stream",
     "text": [
      "My first name is:  ali \n",
      " My last name is  ali\n",
      "My first name is:  ahsan \n",
      " My last name is  ahsan\n"
     ]
    }
   ],
   "source": [
    "my_info(a)"
   ]
  },
  {
   "cell_type": "code",
   "execution_count": null,
   "metadata": {},
   "outputs": [],
   "source": []
  }
 ],
 "metadata": {
  "kernelspec": {
   "display_name": "Python 3",
   "language": "python",
   "name": "python3"
  },
  "language_info": {
   "codemirror_mode": {
    "name": "ipython",
    "version": 3
   },
   "file_extension": ".py",
   "mimetype": "text/x-python",
   "name": "python",
   "nbconvert_exporter": "python",
   "pygments_lexer": "ipython3",
   "version": "3.7.1"
  }
 },
 "nbformat": 4,
 "nbformat_minor": 2
}
