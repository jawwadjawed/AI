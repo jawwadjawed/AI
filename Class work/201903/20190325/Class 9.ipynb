{
 "cells": [
  {
   "cell_type": "code",
   "execution_count": null,
   "metadata": {},
   "outputs": [],
   "source": [
    "item = [\"1\", \"2\", \"3\"]\n",
    "print(item)"
   ]
  },
  {
   "cell_type": "code",
   "execution_count": null,
   "metadata": {},
   "outputs": [],
   "source": [
    "item.append(\"4\")\n",
    "print(item)"
   ]
  },
  {
   "cell_type": "code",
   "execution_count": null,
   "metadata": {},
   "outputs": [],
   "source": [
    "item.insert(1, \"Jojo manual\")"
   ]
  },
  {
   "cell_type": "code",
   "execution_count": null,
   "metadata": {},
   "outputs": [],
   "source": [
    "print(item)"
   ]
  },
  {
   "cell_type": "code",
   "execution_count": null,
   "metadata": {},
   "outputs": [],
   "source": [
    "print(item)\n",
    "print(item[1])"
   ]
  },
  {
   "cell_type": "code",
   "execution_count": null,
   "metadata": {},
   "outputs": [],
   "source": [
    "item[3] = \"abc\"\n",
    "print (item)"
   ]
  },
  {
   "cell_type": "code",
   "execution_count": null,
   "metadata": {},
   "outputs": [],
   "source": [
    "# item.append(\"asdf\")\n",
    "item[3] = \"4\";\n",
    "print (item);"
   ]
  },
  {
   "cell_type": "code",
   "execution_count": null,
   "metadata": {},
   "outputs": [],
   "source": [
    "itemList = [];\n",
    "itemList.append(\"a\");\n",
    "itemList.append(\"b\");\n",
    "itemList.append(\"c\");\n",
    "itemList.append(\"d\");\n",
    "print(itemList);\n"
   ]
  },
  {
   "cell_type": "code",
   "execution_count": 2,
   "metadata": {},
   "outputs": [
    {
     "ename": "NameError",
     "evalue": "name 'itemList' is not defined",
     "output_type": "error",
     "traceback": [
      "\u001b[1;31m---------------------------------------------------------------------------\u001b[0m",
      "\u001b[1;31mNameError\u001b[0m                                 Traceback (most recent call last)",
      "\u001b[1;32m<ipython-input-2-2b778d6cbc01>\u001b[0m in \u001b[0;36m<module>\u001b[1;34m\u001b[0m\n\u001b[1;32m----> 1\u001b[1;33m \u001b[0mitemList\u001b[0m\u001b[1;33m.\u001b[0m\u001b[0minsert\u001b[0m\u001b[1;33m(\u001b[0m\u001b[1;36m2\u001b[0m\u001b[1;33m,\u001b[0m \u001b[1;34m\"Heavy Bike\"\u001b[0m\u001b[1;33m)\u001b[0m\u001b[1;33m;\u001b[0m\u001b[1;33m\u001b[0m\u001b[1;33m\u001b[0m\u001b[0m\n\u001b[0m\u001b[0;32m      2\u001b[0m \u001b[0mprint\u001b[0m\u001b[1;33m(\u001b[0m\u001b[0mitemList\u001b[0m\u001b[1;33m)\u001b[0m\u001b[1;33m;\u001b[0m\u001b[1;33m\u001b[0m\u001b[1;33m\u001b[0m\u001b[0m\n",
      "\u001b[1;31mNameError\u001b[0m: name 'itemList' is not defined"
     ]
    }
   ],
   "source": [
    "itemList.insert(2, \"Heavy Bike\");\n",
    "print(itemList);"
   ]
  },
  {
   "cell_type": "code",
   "execution_count": null,
   "metadata": {},
   "outputs": [],
   "source": [
    "todoList = [\"task 1\", \"task 2\", \"task 3\", \"task 4\"];\n",
    "doneList = [];\n",
    "\n",
    "print (todoList);\n",
    "print (doneList);"
   ]
  },
  {
   "cell_type": "code",
   "execution_count": null,
   "metadata": {},
   "outputs": [],
   "source": [
    "completedTask = input(\"Please enter completed task : \");\n",
    "if (completedTask in todoList):\n",
    "    todoList.pop(todoList.index(completedTask.lower()));\n",
    "    doneList.append(completedTask.lower());\n",
    "else:\n",
    "    print(\"This task is not in list\");        \n",
    "print (todoList);\n",
    "print (doneList);"
   ]
  },
  {
   "cell_type": "code",
   "execution_count": 1,
   "metadata": {},
   "outputs": [],
   "source": [
    "todoList = [\"task 1\", \"task 2\", \"task 3\", \"task 4\"];\n",
    "doneList = [];"
   ]
  },
  {
   "cell_type": "code",
   "execution_count": 3,
   "metadata": {},
   "outputs": [
    {
     "name": "stdout",
     "output_type": "stream",
     "text": [
      "Have you completed task 1??? n\n",
      "Have you completed task 2??? y\n",
      "['task 2', 'task 4']\n",
      "['task 1', 'task 2']\n"
     ]
    }
   ],
   "source": [
    "status = input(\"Have you completed task 1??? \");\n",
    "if (status.lower() == \"y\"):\n",
    "    todoList.pop(0);\n",
    "    doneList.append(\"task 1\");\n",
    "else:\n",
    "    status = input(\"Have you completed task 2??? \");\n",
    "    if (status.lower() == \"y\"):\n",
    "        todoList.pop(1);\n",
    "        doneList.append(\"task 2\");\n",
    "    else:\n",
    "        status = input(\"Have you completed task 3??? \");\n",
    "        if (status.lower() == \"y\"):\n",
    "            todoList.pop(2);\n",
    "            doneList.append(\"task 3\");\n",
    "        else:\n",
    "            status = input(\"Have you completed task 4??? \");\n",
    "            if (status.lower() == \"y\"):\n",
    "                todoList.pop(3);\n",
    "                doneList.append(\"task 4\");\n",
    "            else:\n",
    "                print(\"Please finish the tasks\")\n",
    "\n",
    "print(todoList);\n",
    "print(doneList);"
   ]
  },
  {
   "cell_type": "code",
   "execution_count": 13,
   "metadata": {},
   "outputs": [
    {
     "name": "stdout",
     "output_type": "stream",
     "text": [
      "['task 1', 'task 2', 'task 3', 'task 4']\n",
      "['task 1', 'task 2', 'task 3']\n",
      "['task 1', 'task 2']\n",
      "['task 1']\n",
      "[]\n"
     ]
    }
   ],
   "source": [
    "todoList = [\"task 1\", \"task 2\", \"task 3\", \"task 4\"];\n",
    "\n",
    "print (todoList);\n",
    "todoList.pop();\n",
    "\n",
    "print (todoList);\n",
    "\n",
    "\n",
    "todoList.pop();\n",
    "print (todoList);\n",
    "\n",
    "todoList.pop();\n",
    "print (todoList);\n",
    "\n",
    "todoList.pop();\n",
    "print (todoList);"
   ]
  }
 ],
 "metadata": {
  "kernelspec": {
   "display_name": "Python 3",
   "language": "python",
   "name": "python3"
  },
  "language_info": {
   "codemirror_mode": {
    "name": "ipython",
    "version": 3
   },
   "file_extension": ".py",
   "mimetype": "text/x-python",
   "name": "python",
   "nbconvert_exporter": "python",
   "pygments_lexer": "ipython3",
   "version": "3.7.1"
  }
 },
 "nbformat": 4,
 "nbformat_minor": 2
}
