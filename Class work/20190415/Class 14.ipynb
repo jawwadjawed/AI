{
 "cells": [
  {
   "cell_type": "markdown",
   "metadata": {},
   "source": [
    "# For Loop in Dictionary"
   ]
  },
  {
   "cell_type": "code",
   "execution_count": 2,
   "metadata": {},
   "outputs": [
    {
     "name": "stdout",
     "output_type": "stream",
     "text": [
      "a 10\n",
      "b 20\n",
      "c 30\n"
     ]
    }
   ],
   "source": [
    "dictionary = {\"a\" : 10, \"b\" : 20, \"c\" : 30};\n",
    "for key, value in dictionary.items():\n",
    "    print(key, value);"
   ]
  },
  {
   "cell_type": "code",
   "execution_count": 4,
   "metadata": {},
   "outputs": [
    {
     "name": "stdout",
     "output_type": "stream",
     "text": [
      "a\n",
      "b\n",
      "c\n"
     ]
    }
   ],
   "source": [
    "for key in dictionary.keys():\n",
    "    print(key);"
   ]
  },
  {
   "cell_type": "code",
   "execution_count": 6,
   "metadata": {},
   "outputs": [
    {
     "name": "stdout",
     "output_type": "stream",
     "text": [
      "10\n",
      "20\n",
      "30\n"
     ]
    }
   ],
   "source": [
    "for value in dictionary.values():\n",
    "    print(value);"
   ]
  },
  {
   "cell_type": "code",
   "execution_count": 13,
   "metadata": {},
   "outputs": [
    {
     "name": "stdout",
     "output_type": "stream",
     "text": [
      "Hashim favourite language is C++\n",
      "Hussain favourite language is C#\n",
      "Zain favourite language is Java Script\n",
      "Nasir favourite language is Python\n"
     ]
    }
   ],
   "source": [
    "dictionary = {\"Hashim\" : \"C++\", \"Hussain\" : \"C#\", \"Zain\" : \"Java Script\", \"Nasir\" : \"Python\"};\n",
    "\n",
    "for key, value in dictionary.items():\n",
    "    print(\"{} favourite language is {}\".format(key, value));"
   ]
  },
  {
   "cell_type": "code",
   "execution_count": 29,
   "metadata": {},
   "outputs": [
    {
     "name": "stdout",
     "output_type": "stream",
     "text": [
      "Hello\n",
      "Your First Name is Aslam\n",
      "Your Last Name is Nagaria\n",
      "Your Age is 30\n",
      "Your City is Karachi\n"
     ]
    }
   ],
   "source": [
    "dictionary = {\"First Name\" : \"Aslam\", \"Last Name\" : \"Nagaria\", \"Age\" : 30, \"City\" : \"Karachi\"};\n",
    "\n",
    "print(\"Hello\")\n",
    "for key, value in dictionary.items():\n",
    "    print(\"Your {} is {}\".format(key, value));\n",
    "    "
   ]
  },
  {
   "cell_type": "code",
   "execution_count": 32,
   "metadata": {},
   "outputs": [
    {
     "name": "stdout",
     "output_type": "stream",
     "text": [
      "Hello, First Name is Rizwan\n",
      "S/O Aslam\n",
      "I am 30 years old\n",
      "I live in Karachi\n"
     ]
    }
   ],
   "source": [
    "dictionary = {\"First Name\" : \"Rizwan\", \"Last Name\" : \"Aslam\", \"Age\" : 30, \"City\" : \"Karachi\"};\n",
    "\n",
    "print(\"Hello, First Name is {}\".format(dictionary[\"First Name\"]));\n",
    "print(\"S/O {}\".format(dictionary[\"Last Name\"]));\n",
    "print(\"I am {} years old\".format(dictionary[\"Age\"]));\n",
    "print(\"I live in {}\".format(dictionary[\"City\"]));"
   ]
  },
  {
   "cell_type": "code",
   "execution_count": 34,
   "metadata": {},
   "outputs": [
    {
     "name": "stdout",
     "output_type": "stream",
     "text": [
      "\n",
      "Key: Teacher\n",
      "Value: Sir Nasir\n",
      "\n",
      "Key: Teacher_Assistant\n",
      "Value: Shahzad Ahsan\n",
      "\n",
      "Key: Student\n",
      "Value: Anas\n"
     ]
    }
   ],
   "source": [
    "user_0 = {'Teacher': 'Sir Nasir','Teacher_Assistant': 'Shahzad Ahsan','Student': 'Anas'}\n",
    "\n",
    "for key, value in user_0.items():\n",
    "    \n",
    "    \n",
    "    print(\"\\nKey: \" + key)\n",
    "    print(\"Value: \" + value)"
   ]
  },
  {
   "cell_type": "code",
   "execution_count": 36,
   "metadata": {},
   "outputs": [
    {
     "name": "stdout",
     "output_type": "stream",
     "text": [
      "My First name is Shahzad and my last name is Ahsan.\n",
      "My First name is Sara Ali and my last name is Khan.\n",
      "My First name is Komal and my last name is Aftab.\n",
      "My First name is Hassan and my last name is Dhedhi.\n"
     ]
    }
   ],
   "source": [
    "names = {'Shahzad':'Ahsan' , 'Sara Ali':'Khan' , 'Komal':'Aftab' , 'Hassan':'Dhedhi'}\n",
    "\n",
    "for first_name , last_name in names.items():\n",
    "    \n",
    "    print('My First name is ' + first_name.title() + ' and my last name is ' + last_name.title() + '.')"
   ]
  },
  {
   "cell_type": "code",
   "execution_count": 38,
   "metadata": {},
   "outputs": [
    {
     "name": "stdout",
     "output_type": "stream",
     "text": [
      "Dict: mobile\n",
      "Dict: batsman\n",
      "Dict: bike\n",
      "Dict: car\n"
     ]
    }
   ],
   "source": [
    "words = {'mobile':'apple' , 'batsman':'AB' , 'bike':'Heavy' , 'car':'Audi'}\n",
    "\n",
    "for word in words.keys():\n",
    "    \n",
    "    print('Dict: ' + word)\n",
    "    "
   ]
  },
  {
   "cell_type": "code",
   "execution_count": 40,
   "metadata": {},
   "outputs": [
    {
     "name": "stdout",
     "output_type": "stream",
     "text": [
      "Please write your last name also...\n",
      "Last Name is Junejo\n"
     ]
    }
   ],
   "source": [
    "alien1 = {'name':'Anas' , 'color':'green' , 'height':'5.7' , 'weight':'67'}\n",
    "\n",
    "if 'last_name' not in alien1.keys():\n",
    "    \n",
    "    print(\"Please write your last name also...\")\n",
    "\n",
    "alien1 = {'name':'Anas' , 'color':'green' , 'height':'5.7' , 'weight':'67', \"last_name\" : \"Junejo\"};\n",
    "\n",
    "if 'last_name' in alien1.keys():\n",
    "    \n",
    "    print(\"Last Name is {}\".format(alien1[\"last_name\"]))"
   ]
  },
  {
   "cell_type": "code",
   "execution_count": 42,
   "metadata": {},
   "outputs": [
    {
     "name": "stdout",
     "output_type": "stream",
     "text": [
      "['Aslam', 'Bashir', 'Danish', 'Hamza', 'Sadiq', 'Yahya', 'Zainab']\n"
     ]
    }
   ],
   "source": [
    "names = [\"Aslam\", \"Sadiq\", \"Bashir\", \"Hamza\", \"Danish\", \"Zainab\", \"Yahya\"];\n",
    "\n",
    "print(sorted(names));"
   ]
  },
  {
   "cell_type": "code",
   "execution_count": 54,
   "metadata": {},
   "outputs": [
    {
     "name": "stdout",
     "output_type": "stream",
     "text": [
      "Aslam\n",
      "Danish\n",
      "Hammad\n",
      "Yahya\n",
      "Zainab\n",
      "ahmed\n",
      " \n",
      "\n",
      "Azam\n",
      "Bashir\n",
      "Danyal\n",
      "Jamal\n",
      "Zaki\n",
      "ali\n",
      " \n",
      "\n",
      "Aslam\n",
      "Danish\n",
      "Hammad\n",
      "Yahya\n",
      "Zainab\n",
      "ahmed\n",
      " \n",
      "\n",
      "Azam\n",
      "Bashir\n",
      "Danyal\n",
      "Jamal\n",
      "Zaki\n",
      "ali\n"
     ]
    }
   ],
   "source": [
    "names = {\"Aslam\" : \"Zaki\", \"Yahya\" : \"Bashir\", \"Danish\" : \"Danyal\", \"Hammad\" : \"Azam\", \"Zainab\" : \"Jamal\", \"ahmed\" : \"ali\"};\n",
    "\n",
    "for name in sorted(names.keys()):\n",
    "    print(name);\n",
    "    \n",
    "print(\" \\n\")\n",
    "    \n",
    "for name in sorted(names.values()):\n",
    "    print(name);\n",
    "    \n",
    "print(\" \\n\")\n",
    "    \n",
    "names = {\"ahmed\" : \"ali\", \"Aslam\" : \"Zaki\", \"Yahya\" : \"Bashir\", \"Danish\" : \"Danyal\", \"Hammad\" : \"Azam\", \"Zainab\" : \"Jamal\"};\n",
    "\n",
    "for name in sorted(names.keys()):\n",
    "    print(name);\n",
    "    \n",
    "print(\" \\n\")\n",
    "    \n",
    "for name in sorted(names.values()):\n",
    "    print(name);"
   ]
  },
  {
   "cell_type": "code",
   "execution_count": 55,
   "metadata": {},
   "outputs": [
    {
     "data": {
      "text/plain": [
       "[1, 2, 3, 6, 10, 45]"
      ]
     },
     "execution_count": 55,
     "metadata": {},
     "output_type": "execute_result"
    }
   ],
   "source": [
    "list1 = [1,3,45,2,10,6]\n",
    "list1.sort();\n",
    "list1"
   ]
  },
  {
   "cell_type": "code",
   "execution_count": 68,
   "metadata": {},
   "outputs": [
    {
     "name": "stdout",
     "output_type": "stream",
     "text": [
      "['a', 'l', 'o', 'g']\n",
      "['a', 'l', 'o', 'g']\n",
      "[4, 3, 2, 1]\n",
      "[5, 3, 4, 2, 1]\n"
     ]
    }
   ],
   "source": [
    "seq = 'gola'\n",
    "print(list(reversed(seq)))\n",
    "# print(reversed(seq))\n",
    "  \n",
    "\n",
    "seq = ('g', 'o', 'l', 'a') \n",
    "print(list(reversed(seq))) \n",
    "# print(reversed(seq))\n",
    "\n",
    "seq = range(1, 5) \n",
    "print(list(reversed(seq))) \n",
    "# print(reversed(seq))\n",
    "\n",
    "\n",
    "seq = [1, 2, 4, 3, 5] \n",
    "# revseq = reversed(seq)\n",
    "print(list(reversed(seq))) \n",
    "# print(reversed(revseq))"
   ]
  },
  {
   "cell_type": "code",
   "execution_count": 70,
   "metadata": {},
   "outputs": [
    {
     "name": "stdout",
     "output_type": "stream",
     "text": [
      "{'color': 'green', 'points': 5}\n",
      "{'color': 'yellow', 'points': 10}\n",
      "{'color': 'red', 'points': 15}\n"
     ]
    }
   ],
   "source": [
    "alien_0 = {'color': 'green', 'points': 5}\n",
    "alien_1 = {'color': 'yellow', 'points': 10}\n",
    "alien_2 = {'color': 'red', 'points': 15}\n",
    "\n",
    "aliens = [alien_0, alien_1, alien_2]\n",
    "\n",
    "\n",
    "for alien in aliens:\n",
    "    print(alien)"
   ]
  },
  {
   "cell_type": "code",
   "execution_count": 82,
   "metadata": {},
   "outputs": [
    {
     "name": "stdout",
     "output_type": "stream",
     "text": [
      "Color : green, Points : 5\n",
      "Color : yellow, Points : 10\n",
      "Color : red, Points : 15\n",
      "\n",
      "\n",
      "Key : color, Value : green\n",
      "Key : points, Value : 5\n",
      "Key : color, Value : yellow\n",
      "Key : points, Value : 10\n",
      "Key : color, Value : red\n",
      "Key : points, Value : 15\n"
     ]
    }
   ],
   "source": [
    "alien_0 = {'color': 'green', 'points': 5}\n",
    "alien_1 = {'color': 'yellow', 'points': 10}\n",
    "alien_2 = {'color': 'red', 'points': 15}\n",
    "\n",
    "aliens = [alien_0, alien_1, alien_2]\n",
    "\n",
    "for alien in aliens:\n",
    "    print(\"Color : {}, Points : {}\".format(alien[\"color\"], alien[\"points\"]))\n",
    "    \n",
    "print(\"\\n\")\n",
    "\n",
    "for alien in aliens:\n",
    "    for key, value in alien.items():\n",
    "        print(\"Key : {}, Value : {}\".format(key,value))"
   ]
  },
  {
   "cell_type": "code",
   "execution_count": 83,
   "metadata": {},
   "outputs": [
    {
     "name": "stdout",
     "output_type": "stream",
     "text": [
      "2 X 1 = 2\n",
      "2 X 2 = 4\n",
      "2 X 3 = 6\n",
      "2 X 4 = 8\n",
      "2 X 5 = 10\n",
      "2 X 6 = 12\n",
      "2 X 7 = 14\n",
      "2 X 8 = 16\n",
      "2 X 9 = 18\n",
      "2 X 10 = 20\n",
      "3 X 1 = 3\n",
      "3 X 2 = 6\n",
      "3 X 3 = 9\n",
      "3 X 4 = 12\n",
      "3 X 5 = 15\n",
      "3 X 6 = 18\n",
      "3 X 7 = 21\n",
      "3 X 8 = 24\n",
      "3 X 9 = 27\n",
      "3 X 10 = 30\n"
     ]
    }
   ],
   "source": [
    "numbers = [1,2,3,4,5,6,7,8,9,10];\n",
    "\n",
    "for table in [2,3]:\n",
    "    for number in numbers:\n",
    "        print(f\"{table} X {number} = {table*number}\")"
   ]
  }
 ],
 "metadata": {
  "kernelspec": {
   "display_name": "Python 3",
   "language": "python",
   "name": "python3"
  },
  "language_info": {
   "codemirror_mode": {
    "name": "ipython",
    "version": 3
   },
   "file_extension": ".py",
   "mimetype": "text/x-python",
   "name": "python",
   "nbconvert_exporter": "python",
   "pygments_lexer": "ipython3",
   "version": "3.7.1"
  }
 },
 "nbformat": 4,
 "nbformat_minor": 2
}
