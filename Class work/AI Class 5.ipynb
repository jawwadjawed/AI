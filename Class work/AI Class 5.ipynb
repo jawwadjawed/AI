{
 "cells": [
  {
   "cell_type": "code",
   "execution_count": 10,
   "metadata": {},
   "outputs": [
    {
     "name": "stdout",
     "output_type": "stream",
     "text": [
      "Enter first number:3\n",
      "<class 'str'>\n",
      "<class 'int'>\n",
      "Enter second number:2\n",
      "<class 'str'>\n",
      "<class 'int'>\n",
      "5\n"
     ]
    }
   ],
   "source": [
    "num1 = input(\"Enter first number:\")\n",
    "print(type(num1))\n",
    "typecasted_num1 = int(num1)\n",
    "print(type(typecasted_num1))\n",
    "\n",
    "num2 = input(\"Enter second number:\")\n",
    "print(type(num2))\n",
    "typecasted_num2 = int(num2)\n",
    "print(type(typecasted_num2))\n",
    "\n",
    "total = typecasted_num1 + typecasted_num2\n",
    "print(total)"
   ]
  },
  {
   "cell_type": "code",
   "execution_count": 10,
   "metadata": {},
   "outputs": [
    {
     "name": "stdout",
     "output_type": "stream",
     "text": [
      "Enter an integer value:4\n",
      "Enter a integer value:6\n",
      "The total of two inputs 10\n"
     ]
    }
   ],
   "source": [
    "number1 = int(input('Enter an integer value:'))\n",
    "number2 = int(input('Enter a integer value:'))\n",
    "print(\"The total of two inputs \" + str(number1 + number2))"
   ]
  },
  {
   "cell_type": "code",
   "execution_count": 11,
   "metadata": {},
   "outputs": [
    {
     "name": "stdout",
     "output_type": "stream",
     "text": [
      "uzairKunda**"
     ]
    }
   ],
   "source": [
    "print(\"uzair\", end = \"Kunda**\")"
   ]
  },
  {
   "cell_type": "code",
   "execution_count": null,
   "metadata": {},
   "outputs": [],
   "source": []
  }
 ],
 "metadata": {
  "kernelspec": {
   "display_name": "Python 3",
   "language": "python",
   "name": "python3"
  },
  "language_info": {
   "codemirror_mode": {
    "name": "ipython",
    "version": 3
   },
   "file_extension": ".py",
   "mimetype": "text/x-python",
   "name": "python",
   "nbconvert_exporter": "python",
   "pygments_lexer": "ipython3",
   "version": "3.7.1"
  }
 },
 "nbformat": 4,
 "nbformat_minor": 2
}
