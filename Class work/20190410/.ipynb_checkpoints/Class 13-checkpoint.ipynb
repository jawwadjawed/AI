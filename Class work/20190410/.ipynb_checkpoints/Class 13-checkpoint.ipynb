{
 "cells": [
  {
   "cell_type": "markdown",
   "metadata": {},
   "source": [
    "# Tuple"
   ]
  },
  {
   "cell_type": "code",
   "execution_count": 4,
   "metadata": {},
   "outputs": [
    {
     "name": "stdout",
     "output_type": "stream",
     "text": [
      "I belong to Lahore\n"
     ]
    }
   ],
   "source": [
    "cities = (\"karachi\", \"lahore\", \"islamabad\", \"quetta\");\n",
    "\n",
    "myCity = cities[1];\n",
    "\n",
    "print(\"I belong to {}\".format(myCity.title()));"
   ]
  },
  {
   "cell_type": "code",
   "execution_count": 6,
   "metadata": {},
   "outputs": [
    {
     "name": "stdout",
     "output_type": "stream",
     "text": [
      "tup1[0]:  physics\n",
      "tup2[1:5]:  (2, 3, 4, 5)\n"
     ]
    }
   ],
   "source": [
    "tup1 = (\"physics\", \"chemistry\", 1991, 2000);\n",
    "tup2 = (1, 2, 3, 4, 5, 6, 7);\n",
    "\n",
    "print(\"tup1[0]: \", tup1[0]);\n",
    "print(\"tup2[1:5]: \", tup2[1:5]);"
   ]
  },
  {
   "cell_type": "code",
   "execution_count": 9,
   "metadata": {},
   "outputs": [
    {
     "name": "stdout",
     "output_type": "stream",
     "text": [
      "(12, 10.25, 'abc', 'xyz')\n",
      "('abc', 'xyz', 12, 10.25)\n",
      "('abc', 'xyz', 'abc', 'xyz')\n"
     ]
    },
    {
     "ename": "TypeError",
     "evalue": "can't multiply sequence by non-int of type 'tuple'",
     "output_type": "error",
     "traceback": [
      "\u001b[1;31m---------------------------------------------------------------------------\u001b[0m",
      "\u001b[1;31mTypeError\u001b[0m                                 Traceback (most recent call last)",
      "\u001b[1;32m<ipython-input-9-37fa61c867bb>\u001b[0m in \u001b[0;36m<module>\u001b[1;34m\u001b[0m\n\u001b[0;32m     11\u001b[0m \u001b[0mprint\u001b[0m\u001b[1;33m(\u001b[0m\u001b[0mtup3\u001b[0m\u001b[1;33m)\u001b[0m\u001b[1;33m;\u001b[0m\u001b[1;33m\u001b[0m\u001b[1;33m\u001b[0m\u001b[0m\n\u001b[0;32m     12\u001b[0m \u001b[1;33m\u001b[0m\u001b[0m\n\u001b[1;32m---> 13\u001b[1;33m \u001b[0mtup3\u001b[0m \u001b[1;33m=\u001b[0m \u001b[0mtup2\u001b[0m \u001b[1;33m*\u001b[0m \u001b[0mtup2\u001b[0m\u001b[1;33m;\u001b[0m\u001b[1;33m\u001b[0m\u001b[1;33m\u001b[0m\u001b[0m\n\u001b[0m\u001b[0;32m     14\u001b[0m \u001b[0mprint\u001b[0m\u001b[1;33m(\u001b[0m\u001b[0mtup3\u001b[0m\u001b[1;33m)\u001b[0m\u001b[1;33m;\u001b[0m\u001b[1;33m\u001b[0m\u001b[1;33m\u001b[0m\u001b[0m\n",
      "\u001b[1;31mTypeError\u001b[0m: can't multiply sequence by non-int of type 'tuple'"
     ]
    }
   ],
   "source": [
    "tup1 = (12, 10.25);\n",
    "tup2 = (\"abc\", \"xyz\");\n",
    "\n",
    "tup3 = tup1 + tup2;\n",
    "print(tup3);\n",
    "\n",
    "tup3 = tup2 + tup1;\n",
    "print(tup3);\n",
    "\n",
    "tup3 = tup2 + tup2;\n",
    "print(tup3);\n",
    "\n",
    "tup3 = tup2 * tup2;\n",
    "print(tup3); "
   ]
  },
  {
   "cell_type": "code",
   "execution_count": 11,
   "metadata": {},
   "outputs": [
    {
     "name": "stdout",
     "output_type": "stream",
     "text": [
      "('physics', 'chemistry', 100, 120)\n",
      "After deleting tup1 :\n"
     ]
    },
    {
     "ename": "NameError",
     "evalue": "name 'tup1' is not defined",
     "output_type": "error",
     "traceback": [
      "\u001b[1;31m---------------------------------------------------------------------------\u001b[0m",
      "\u001b[1;31mNameError\u001b[0m                                 Traceback (most recent call last)",
      "\u001b[1;32m<ipython-input-11-138ccd383b46>\u001b[0m in \u001b[0;36m<module>\u001b[1;34m\u001b[0m\n\u001b[0;32m      5\u001b[0m \u001b[1;33m\u001b[0m\u001b[0m\n\u001b[0;32m      6\u001b[0m \u001b[0mprint\u001b[0m\u001b[1;33m(\u001b[0m\u001b[1;34m\"After deleting tup1 :\"\u001b[0m\u001b[1;33m)\u001b[0m\u001b[1;33m;\u001b[0m\u001b[1;33m\u001b[0m\u001b[1;33m\u001b[0m\u001b[0m\n\u001b[1;32m----> 7\u001b[1;33m \u001b[0mprint\u001b[0m\u001b[1;33m(\u001b[0m\u001b[0mtup1\u001b[0m\u001b[1;33m)\u001b[0m\u001b[1;33m;\u001b[0m\u001b[1;33m\u001b[0m\u001b[1;33m\u001b[0m\u001b[0m\n\u001b[0m",
      "\u001b[1;31mNameError\u001b[0m: name 'tup1' is not defined"
     ]
    }
   ],
   "source": [
    "tup1 = (\"physics\", \"chemistry\", 100, 120);\n",
    "print(tup1);\n",
    "\n",
    "del tup1;\n",
    "\n",
    "print(\"After deleting tup1 :\");\n",
    "print(tup1);"
   ]
  },
  {
   "cell_type": "code",
   "execution_count": 2,
   "metadata": {},
   "outputs": [
    {
     "name": "stdout",
     "output_type": "stream",
     "text": [
      "physics\n",
      "chemistry\n",
      "100\n",
      "120\n"
     ]
    }
   ],
   "source": [
    "tup1 = (\"physics\", \"chemistry\", 100, 120);\n",
    "\n",
    "for t in tup1:\n",
    "    print(t);"
   ]
  },
  {
   "cell_type": "code",
   "execution_count": 15,
   "metadata": {},
   "outputs": [
    {
     "name": "stdout",
     "output_type": "stream",
     "text": [
      "('physics', 'chemistry', 100, 120)\n"
     ]
    },
    {
     "ename": "TypeError",
     "evalue": "'tuple' object does not support item assignment",
     "output_type": "error",
     "traceback": [
      "\u001b[1;31m---------------------------------------------------------------------------\u001b[0m",
      "\u001b[1;31mTypeError\u001b[0m                                 Traceback (most recent call last)",
      "\u001b[1;32m<ipython-input-15-58fb3f61c4d9>\u001b[0m in \u001b[0;36m<module>\u001b[1;34m\u001b[0m\n\u001b[0;32m      2\u001b[0m \u001b[1;33m\u001b[0m\u001b[0m\n\u001b[0;32m      3\u001b[0m \u001b[0mprint\u001b[0m\u001b[1;33m(\u001b[0m\u001b[0mtup1\u001b[0m\u001b[1;33m)\u001b[0m\u001b[1;33m;\u001b[0m\u001b[1;33m\u001b[0m\u001b[1;33m\u001b[0m\u001b[0m\n\u001b[1;32m----> 4\u001b[1;33m \u001b[0mtup1\u001b[0m\u001b[1;33m[\u001b[0m\u001b[1;36m2\u001b[0m\u001b[1;33m]\u001b[0m \u001b[1;33m=\u001b[0m \u001b[1;34m\"Maths\"\u001b[0m\u001b[1;33m;\u001b[0m\u001b[1;33m\u001b[0m\u001b[1;33m\u001b[0m\u001b[0m\n\u001b[0m\u001b[0;32m      5\u001b[0m \u001b[1;33m\u001b[0m\u001b[0m\n\u001b[0;32m      6\u001b[0m \u001b[0mprint\u001b[0m\u001b[1;33m(\u001b[0m\u001b[0mtup1\u001b[0m\u001b[1;33m)\u001b[0m\u001b[1;33m;\u001b[0m\u001b[1;33m\u001b[0m\u001b[1;33m\u001b[0m\u001b[0m\n",
      "\u001b[1;31mTypeError\u001b[0m: 'tuple' object does not support item assignment"
     ]
    }
   ],
   "source": [
    "tup1 = (\"physics\", \"chemistry\", 100, 120);\n",
    "\n",
    "print(tup1);\n",
    "tup1[2] = \"Maths\";\n",
    "\n",
    "print(tup1);"
   ]
  },
  {
   "cell_type": "code",
   "execution_count": 17,
   "metadata": {},
   "outputs": [
    {
     "name": "stdout",
     "output_type": "stream",
     "text": [
      "Urdu exists in tup1\n"
     ]
    }
   ],
   "source": [
    "tup1 = (\"physics\", \"chemistry\", \"Urdu\", \"Maths\");\n",
    "\n",
    "if (\"Urdu\" in tup1):\n",
    "    print(\"Urdu exists in tup1\");\n",
    "    \n",
    "if (\"Islamiat\" in tup1):\n",
    "    print(\"Islamiat exists in tup1\");"
   ]
  },
  {
   "cell_type": "code",
   "execution_count": 19,
   "metadata": {},
   "outputs": [
    {
     "name": "stdout",
     "output_type": "stream",
     "text": [
      "4\n"
     ]
    }
   ],
   "source": [
    "tup1 = (\"physics\", \"chemistry\", \"Urdu\", \"Maths\");\n",
    "\n",
    "print(len(tup1));"
   ]
  },
  {
   "cell_type": "markdown",
   "metadata": {},
   "source": [
    "# Dictionaries"
   ]
  },
  {
   "cell_type": "code",
   "execution_count": 29,
   "metadata": {},
   "outputs": [
    {
     "name": "stdout",
     "output_type": "stream",
     "text": [
      "{'key': 'value'}\n",
      "value\n",
      "{'ItemCode': '00001', 'ItemName': 'Glass Protector'}\n",
      "00001\n",
      "Glass Protector\n"
     ]
    }
   ],
   "source": [
    "list1 = [\"gogo\", \"hum tum\", \"7up\", \"shahi delux\", \"shahi meva\"]\n",
    "dictionary = {\"key\" : \"value\"};\n",
    "item = {\"ItemCode\" : \"00001\", \"ItemName\" : \"Glass Protector\"}\n",
    "\n",
    "print(a);\n",
    "print(a[\"key\"]);\n",
    "\n",
    "print(item);\n",
    "print(item[\"ItemCode\"]);\n",
    "print(item[\"ItemName\"]);"
   ]
  },
  {
   "cell_type": "code",
   "execution_count": 35,
   "metadata": {},
   "outputs": [
    {
     "name": "stdout",
     "output_type": "stream",
     "text": [
      "{'ShopType': 'Paan wala', 'Items': ['gogo', 'hum tum', '7up', 'shahi delux', 'shahi meva']}\n",
      "Paan wala\n",
      "['gogo', 'hum tum', '7up', 'shahi delux', 'shahi meva']\n"
     ]
    }
   ],
   "source": [
    "products = [\"gogo\", \"hum tum\", \"7up\", \"shahi delux\", \"shahi meva\"];\n",
    "item = {\"ShopType\" : \"Paan wala\", \"Items\" : products};\n",
    "\n",
    "\n",
    "print(item);\n",
    "print(item[\"ShopType\"]);\n",
    "print(item[\"Items\"]);"
   ]
  },
  {
   "cell_type": "code",
   "execution_count": 37,
   "metadata": {},
   "outputs": [
    {
     "name": "stdout",
     "output_type": "stream",
     "text": [
      "Tariq\n"
     ]
    }
   ],
   "source": [
    "dictionary = {\"name\" : \"Fahad\", \"fatherName\" : \"Basit\", \"name\" : \"Tariq\"};\n",
    "print(dictionary[\"name\"]);"
   ]
  },
  {
   "cell_type": "code",
   "execution_count": 40,
   "metadata": {},
   "outputs": [
    {
     "name": "stdout",
     "output_type": "stream",
     "text": [
      "['Fahad', 'Tariq']\n",
      "Basit\n"
     ]
    }
   ],
   "source": [
    "dictionary = {\"name\" : [\"Fahad\", \"Tariq\"], \"fatherName\" : \"Basit\"};\n",
    "print(dictionary[\"name\"]);\n",
    "print(dictionary[\"fatherName\"]);"
   ]
  },
  {
   "cell_type": "code",
   "execution_count": 46,
   "metadata": {},
   "outputs": [
    {
     "name": "stdout",
     "output_type": "stream",
     "text": [
      "('Fahad', 'Tariq')\n",
      "Basit\n"
     ]
    }
   ],
   "source": [
    "dictionary = {\"name\" : (\"Fahad\", \"Tariq\"), \"fatherName\" : \"Basit\"};\n",
    "print(dictionary[\"name\"]);\n",
    "print(dictionary[\"fatherName\"]);"
   ]
  },
  {
   "cell_type": "code",
   "execution_count": 47,
   "metadata": {},
   "outputs": [
    {
     "name": "stdout",
     "output_type": "stream",
     "text": [
      "Tariq\n"
     ]
    }
   ],
   "source": [
    "dictionary = {\"name\" : (\"Fahad\", \"Tariq\"), \"fatherName\" : \"Basit\"};\n",
    "print(dictionary[\"name\"][1]);"
   ]
  },
  {
   "cell_type": "code",
   "execution_count": 48,
   "metadata": {},
   "outputs": [
    {
     "name": "stdout",
     "output_type": "stream",
     "text": [
      "Johny\n"
     ]
    }
   ],
   "source": [
    "dictionary = {\"name\" : (\"Fahad\", \"Tariq\", [\"Jojo\", \"Johny\", \"John\"]), \"fatherName\" : \"Basit\"};\n",
    "print(dictionary[\"name\"][2][1]);"
   ]
  },
  {
   "cell_type": "code",
   "execution_count": 50,
   "metadata": {},
   "outputs": [
    {
     "name": "stdout",
     "output_type": "stream",
     "text": [
      "{'name': ('Fahad', 'Tariq', ['Jojo', 'Aslam', 'John']), 'fatherName': 'Basit'}\n"
     ]
    }
   ],
   "source": [
    "dictionary = {\"name\" : (\"Fahad\", \"Tariq\", [\"Jojo\", \"Johny\", \"John\"]), \"fatherName\" : \"Basit\"};\n",
    "\n",
    "dictionary[\"name\"][2][1] = \"Aslam\"\n",
    "print(dictionary)"
   ]
  },
  {
   "cell_type": "code",
   "execution_count": 54,
   "metadata": {},
   "outputs": [
    {
     "ename": "TypeError",
     "evalue": "'tuple' object does not support item assignment",
     "output_type": "error",
     "traceback": [
      "\u001b[1;31m---------------------------------------------------------------------------\u001b[0m",
      "\u001b[1;31mTypeError\u001b[0m                                 Traceback (most recent call last)",
      "\u001b[1;32m<ipython-input-54-ccd5e4901a0a>\u001b[0m in \u001b[0;36m<module>\u001b[1;34m\u001b[0m\n\u001b[0;32m      1\u001b[0m \u001b[0mdictionary\u001b[0m \u001b[1;33m=\u001b[0m \u001b[1;33m{\u001b[0m\u001b[1;34m\"name\"\u001b[0m \u001b[1;33m:\u001b[0m \u001b[1;33m(\u001b[0m\u001b[1;34m\"Fahad\"\u001b[0m\u001b[1;33m,\u001b[0m \u001b[1;34m\"Tariq\"\u001b[0m\u001b[1;33m,\u001b[0m \u001b[1;33m[\u001b[0m\u001b[1;34m\"Jojo\"\u001b[0m\u001b[1;33m,\u001b[0m \u001b[1;34m\"Johny\"\u001b[0m\u001b[1;33m,\u001b[0m \u001b[1;34m\"John\"\u001b[0m\u001b[1;33m]\u001b[0m\u001b[1;33m)\u001b[0m\u001b[1;33m,\u001b[0m \u001b[1;34m\"fatherName\"\u001b[0m \u001b[1;33m:\u001b[0m \u001b[1;34m\"Basit\"\u001b[0m\u001b[1;33m}\u001b[0m\u001b[1;33m;\u001b[0m\u001b[1;33m\u001b[0m\u001b[1;33m\u001b[0m\u001b[0m\n\u001b[0;32m      2\u001b[0m \u001b[1;33m\u001b[0m\u001b[0m\n\u001b[1;32m----> 3\u001b[1;33m \u001b[0mdictionary\u001b[0m\u001b[1;33m[\u001b[0m\u001b[1;34m\"name\"\u001b[0m\u001b[1;33m]\u001b[0m\u001b[1;33m[\u001b[0m\u001b[1;36m2\u001b[0m\u001b[1;33m]\u001b[0m \u001b[1;33m=\u001b[0m \u001b[1;34m\"Aslam\"\u001b[0m\u001b[1;33m\u001b[0m\u001b[1;33m\u001b[0m\u001b[0m\n\u001b[0m\u001b[0;32m      4\u001b[0m \u001b[0mprint\u001b[0m\u001b[1;33m(\u001b[0m\u001b[0mdictionary\u001b[0m\u001b[1;33m)\u001b[0m\u001b[1;33m\u001b[0m\u001b[1;33m\u001b[0m\u001b[0m\n",
      "\u001b[1;31mTypeError\u001b[0m: 'tuple' object does not support item assignment"
     ]
    }
   ],
   "source": [
    "dictionary = {\"name\" : (\"Fahad\", \"Tariq\", [\"Jojo\", \"Johny\", \"John\"]), \"fatherName\" : \"Basit\"};\n",
    "\n",
    "dictionary[\"name\"][2] = \"Aslam\"\n",
    "print(dictionary)"
   ]
  },
  {
   "cell_type": "code",
   "execution_count": 57,
   "metadata": {},
   "outputs": [
    {
     "name": "stdout",
     "output_type": "stream",
     "text": [
      "{'colour': 'blue', 'points': 10}\n",
      "{'colour': 'blue', 'points': 10, 'xPosition': 5, 'yPosition': 15}\n"
     ]
    }
   ],
   "source": [
    "alien = {\"colour\" : \"blue\", \"points\" : 10};\n",
    "print(alien);\n",
    "\n",
    "alien[\"xPosition\"] = 5;\n",
    "alien[\"yPosition\"] = 15;\n",
    "\n",
    "print(alien);"
   ]
  },
  {
   "cell_type": "code",
   "execution_count": 60,
   "metadata": {},
   "outputs": [
    {
     "name": "stdout",
     "output_type": "stream",
     "text": [
      "key3 value3\n"
     ]
    }
   ],
   "source": [
    "foods = {};\n",
    "foods[\"dish\"] = [\"favourite\", \"karahi\"];\n",
    "foods[\"Restaurant\"] = \"Dhabha\";\n",
    "foods[\"dictionary\"] = {\"key1\" : \"key1 value\", \"key2\" : \"key2 value\", \"key3\" : [\"key3 value1\", \"key3 value2\", \"key3 value3\"]};\n",
    "\n",
    "print(foods[\"dictionary\"][\"key3\"][2]);"
   ]
  },
  {
   "cell_type": "code",
   "execution_count": 61,
   "metadata": {},
   "outputs": [
    {
     "name": "stdout",
     "output_type": "stream",
     "text": [
      "Karachi is: kings\n",
      "PSL4 zalmi : won2\n"
     ]
    }
   ],
   "source": [
    "psl = {'karachi': 'kings', 'multan':'sultan', 'zalmi': 'won'}\n",
    "print(\"Karachi is: \" + str(psl['karachi']))\n",
    "\n",
    "if psl['zalmi'] == 'loser':\n",
    "    x_increment = 1\n",
    "    \n",
    "elif psl['zalmi'] == 'won':\n",
    "    x_increment = 2\n",
    "    \n",
    "else:\n",
    "    x_increment = 3\n",
    "    \n",
    "    \n",
    "psl['zalmi'] = psl['zalmi'] + str(x_increment)\n",
    "print(\"PSL4 zalmi : \" + str(psl['zalmi']))"
   ]
  },
  {
   "cell_type": "code",
   "execution_count": 62,
   "metadata": {},
   "outputs": [
    {
     "name": "stdout",
     "output_type": "stream",
     "text": [
      "10\n",
      "14\n"
     ]
    }
   ],
   "source": [
    "alien = {\"colour\" : \"blue\", \"points\" : 10, \"xPosition\" : 5, \"yPosition\" : 10};\n",
    "\n",
    "print(alien[\"points\"]);\n",
    "\n",
    "if (alien[\"colour\"] == \"green\"):\n",
    "    alien[\"points\"] += 2;\n",
    "elif (alien[\"colour\"] == \"blue\"):\n",
    "    alien[\"points\"] += 4;\n",
    "else:\n",
    "    alien[\"points\"] += 6;\n",
    "\n",
    "print(alien[\"points\"]);"
   ]
  }
 ],
 "metadata": {
  "kernelspec": {
   "display_name": "Python 3",
   "language": "python",
   "name": "python3"
  },
  "language_info": {
   "codemirror_mode": {
    "name": "ipython",
    "version": 3
   },
   "file_extension": ".py",
   "mimetype": "text/x-python",
   "name": "python",
   "nbconvert_exporter": "python",
   "pygments_lexer": "ipython3",
   "version": "3.7.1"
  }
 },
 "nbformat": 4,
 "nbformat_minor": 2
}
