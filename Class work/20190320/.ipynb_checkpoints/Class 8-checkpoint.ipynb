{
 "cells": [
  {
   "cell_type": "code",
   "execution_count": 2,
   "metadata": {},
   "outputs": [
    {
     "name": "stdout",
     "output_type": "stream",
     "text": [
      "Do you have permission? [Y/N]y\n",
      "Do you have tickets? [Y/N]y\n",
      "Enter your age: 450\n",
      "Welcome\n"
     ]
    }
   ],
   "source": [
    "permission = input(\"Do you have permission? [Y/N]\").upper()\n",
    "tickets = input(\"Do you have tickets? [Y/N]\").upper()\n",
    "age = int( input( \"Enter your age: \" ))\n",
    "\n",
    "if age >= 18 and permission == \"Y\" and tickets == \"Y\":\n",
    "    print(\"Welcome\")\n",
    "else:\n",
    "    print(\"Sorry! you are not allowed\")"
   ]
  },
  {
   "cell_type": "code",
   "execution_count": 11,
   "metadata": {},
   "outputs": [
    {
     "name": "stdout",
     "output_type": "stream",
     "text": [
      "Enter your age : 2\n",
      "You are under age now, \n",
      "You can cast vote after 16 years.\n"
     ]
    }
   ],
   "source": [
    "age = int(input (\"Enter your age : \"))\n",
    "timeLeft = 18 - age\n",
    "\n",
    "if age >= 18:\n",
    "    cnicExists = input(\"Do you have CNIC? [Y/N]\").upper()\n",
    "    inVoterList = input(\"Enter your city : \").upper()\n",
    "    \n",
    "    if cnicExists == \"Y\" and inVoterList == \"KARACHI\":\n",
    "        print(\"You can cast vote now\")\n",
    "    else:\n",
    "        print(\"You can't cast vote.\")\n",
    "else:\n",
    "    print(\"You are under age, \\nYou can cast vote after \" + str(timeLeft) + \" years.\")\n",
    "    "
   ]
  },
  {
   "cell_type": "code",
   "execution_count": null,
   "metadata": {},
   "outputs": [],
   "source": [
    "#  make an ATM with withdrawal and deposit facility\n",
    "#  ask pin\n",
    "#  ask what to do\n",
    "#  maintain balance\n",
    "#  validate balance"
   ]
  },
  {
   "cell_type": "code",
   "execution_count": null,
   "metadata": {},
   "outputs": [],
   "source": []
  }
 ],
 "metadata": {
  "kernelspec": {
   "display_name": "Python 3",
   "language": "python",
   "name": "python3"
  },
  "language_info": {
   "codemirror_mode": {
    "name": "ipython",
    "version": 3
   },
   "file_extension": ".py",
   "mimetype": "text/x-python",
   "name": "python",
   "nbconvert_exporter": "python",
   "pygments_lexer": "ipython3",
   "version": "3.7.1"
  }
 },
 "nbformat": 4,
 "nbformat_minor": 2
}
