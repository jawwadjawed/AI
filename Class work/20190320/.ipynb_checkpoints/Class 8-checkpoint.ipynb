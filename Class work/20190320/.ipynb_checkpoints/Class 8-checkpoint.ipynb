{
 "cells": [
  {
   "cell_type": "code",
   "execution_count": 2,
   "metadata": {},
   "outputs": [
    {
     "name": "stdout",
     "output_type": "stream",
     "text": [
      "Do you have permission? [Y/N]y\n",
      "Do you have tickets? [Y/N]y\n",
      "Enter your age: 450\n",
      "Welcome\n"
     ]
    }
   ],
   "source": [
    "permission = input(\"Do you have permission? [Y/N]\").upper()\n",
    "tickets = input(\"Do you have tickets? [Y/N]\").upper()\n",
    "age = int( input( \"Enter your age: \" ))\n",
    "\n",
    "if age >= 18 and permission == \"Y\" and tickets == \"Y\":\n",
    "    print(\"Welcome\")\n",
    "else:\n",
    "    print(\"Sorry! you are not allowed\")"
   ]
  },
  {
   "cell_type": "code",
   "execution_count": 11,
   "metadata": {},
   "outputs": [
    {
     "name": "stdout",
     "output_type": "stream",
     "text": [
      "Enter your age : 2\n",
      "You are under age now, \n",
      "You can cast vote after 16 years.\n"
     ]
    }
   ],
   "source": [
    "age = int(input (\"Enter your age : \"))\n",
    "timeLeft = 18 - age\n",
    "\n",
    "if age >= 18:\n",
    "    cnicExists = input(\"Do you have CNIC? [Y/N]\").upper()\n",
    "    inVoterList = input(\"Enter your city : \").upper()\n",
    "    \n",
    "    if cnicExists == \"Y\" and inVoterList == \"KARACHI\":\n",
    "        print(\"You can cast vote now\")\n",
    "    else:\n",
    "        print(\"You can't cast vote.\")\n",
    "else:\n",
    "    print(\"You are under age, \\nYou can cast vote after \" + str(timeLeft) + \" years.\")\n",
    "    "
   ]
  },
  {
   "cell_type": "code",
   "execution_count": 15,
   "metadata": {},
   "outputs": [
    {
     "name": "stdout",
     "output_type": "stream",
     "text": [
      "Enter your card number4\n",
      "Enter your PIN4\n",
      "Welcome to Dhoraji Bank Limitted!!!\n",
      "Press b for balance inquery \n",
      "d for cash deposit \n",
      "w for withdrawal\n",
      "w\n",
      "Enter amount : 14\n",
      "Your new balance is 4986\n",
      "Thanks for using Dhoraji Bank Limitted!!!\n"
     ]
    }
   ],
   "source": [
    "#  make an ATM with withdrawal and deposit facility\n",
    "#  ask pin\n",
    "#  ask what to do\n",
    "#  maintain balance\n",
    "#  validate balance\n",
    "\n",
    "cardNumber = input(\"Enter your card number\")\n",
    "pin = input(\"Enter your PIN\")\n",
    "\n",
    "if (cardNumber == pin):\n",
    "    print(\"Welcome to Dhoraji Bank Limitted!!!\")\n",
    "    facility = str(input(\"Press b for balance inquery \\nd for cash deposit \\nw for withdrawal\\n\").upper())\n",
    "    currentBalance = 5000\n",
    "    \n",
    "    if (facility == \"B\"):\n",
    "        print(\"Your current balance is \" + str(currentBalance))\n",
    "    elif (facility == \"D\"):\n",
    "        deposit = int(input(\"Enter amount : \"))\n",
    "        currentBalance += deposit\n",
    "        print(\"Your new balance is \" + str(currentBalance))\n",
    "    elif (facility == \"W\"):\n",
    "        withdrawal = int(input(\"Enter amount : \"))\n",
    "        if (withdrawal > currentBalance):\n",
    "            print(\"Sorry! Insufficient Balance!!!\")\n",
    "        else:\n",
    "            currentBalance -= withdrawal\n",
    "            print(\"Your new balance is \" + str(currentBalance))\n",
    "    else:\n",
    "        print(\"Invalid entry!\")\n",
    "    print(\"Thanks for using Dhoraji Bank Limitted!!!\")\n",
    "else:\n",
    "    print(\"Wrong PIN\")\n"
   ]
  },
  {
   "cell_type": "code",
   "execution_count": 12,
   "metadata": {},
   "outputs": [
    {
     "name": "stdout",
     "output_type": "stream",
     "text": [
      "Enter your card number123456789\n",
      "Enter your PIN123456789\n",
      "Welcome to Dhoraji Bank Limitted!!!\n",
      "Press b for balance inquery \n",
      "d for cash deposit \n",
      "w for withdrawal\n",
      "d\n",
      "Enter amount : 6000\n",
      "Your new balance is 11000\n",
      "Thanks for using Dhoraji Bank Limitted!!!\n"
     ]
    }
   ],
   "source": []
  }
 ],
 "metadata": {
  "kernelspec": {
   "display_name": "Python 3",
   "language": "python",
   "name": "python3"
  },
  "language_info": {
   "codemirror_mode": {
    "name": "ipython",
    "version": 3
   },
   "file_extension": ".py",
   "mimetype": "text/x-python",
   "name": "python",
   "nbconvert_exporter": "python",
   "pygments_lexer": "ipython3",
   "version": "3.7.1"
  }
 },
 "nbformat": 4,
 "nbformat_minor": 2
}
