{
 "cells": [
  {
   "cell_type": "code",
   "execution_count": null,
   "metadata": {},
   "outputs": [],
   "source": [
    "permission = input(\"Do you have permission? [Y/N]\").upper()\n",
    "tickets = input(\"Do you have tickets? [Y/N]\").upper()\n",
    "age = int( input( \"Enter your age: \" ))\n",
    "\n",
    "if age >= 18 and permission == \"Y\" and tickets == \"Y\":\n",
    "    print(\"Welcome\")\n",
    "else:\n",
    "    print(\"Sorry! you are not allowed\")"
   ]
  },
  {
   "cell_type": "code",
   "execution_count": null,
   "metadata": {},
   "outputs": [],
   "source": [
    "age = int(input (\"Enter your age : \"))\n",
    "timeLeft = 18 - age\n",
    "\n",
    "if age >= 18:\n",
    "    cnicExists = input(\"Do you have CNIC? [Y/N]\").upper()\n",
    "    inVoterList = input(\"Enter your city : \").upper()\n",
    "    \n",
    "    if cnicExists == \"Y\" and inVoterList == \"KARACHI\":\n",
    "        print(\"You can cast vote now\")\n",
    "    else:\n",
    "        print(\"You can't cast vote.\")\n",
    "else:\n",
    "    print(\"You are under age, \\nYou can cast vote after \" + str(timeLeft) + \" years.\")\n",
    "    "
   ]
  },
  {
   "cell_type": "code",
   "execution_count": null,
   "metadata": {},
   "outputs": [],
   "source": [
    "#  make an ATM with withdrawal and deposit facility\n",
    "#  ask pin\n",
    "#  ask what to do\n",
    "#  maintain balance\n",
    "#  validate balance\n",
    "\n",
    "cardNumber = input(\"Enter your card number\")\n",
    "pin = input(\"Enter your PIN\")\n",
    "\n",
    "if (cardNumber == pin):\n",
    "    print(\"Welcome to Dhoraji Bank Limitted!!!\")\n",
    "    facility = str(input(\"Press b for balance inquery \\nd for cash deposit \\nw for withdrawal\\n\").upper())\n",
    "    currentBalance = 5000\n",
    "    \n",
    "    if (facility == \"B\"):\n",
    "        print(\"Your current balance is \" + str(currentBalance))\n",
    "    elif (facility == \"D\"):\n",
    "        deposit = int(input(\"Enter amount : \"))\n",
    "        currentBalance += deposit\n",
    "        print(\"Your new balance is \" + str(currentBalance))\n",
    "    elif (facility == \"W\"):\n",
    "        withdrawal = int(input(\"Enter amount : \"))\n",
    "        if (withdrawal > currentBalance):\n",
    "            print(\"Sorry! Insufficient Balance!!!\")\n",
    "        else:\n",
    "            currentBalance -= withdrawal\n",
    "            print(\"Your new balance is \" + str(currentBalance))\n",
    "    else:\n",
    "        print(\"Invalid entry!\")\n",
    "    print(\"Thanks for using Dhoraji Bank Limitted!!!\")\n",
    "else:\n",
    "    print(\"Wrong PIN\")\n",
    "\n",
    "# NOTES:\n",
    "#     This program supports only one user.\n",
    "#     We have to re-run the program for each transaction.\n",
    "#     Opening balance hard coded to 5 K.\n",
    "#     Previous balance for transactions is not retained.\n",
    "#     ATM history is not maintained.\n",
    "#     Cannot reconcile"
   ]
  },
  {
   "cell_type": "code",
   "execution_count": 82,
   "metadata": {},
   "outputs": [
    {
     "name": "stdout",
     "output_type": "stream",
     "text": [
      "[]\n",
      "[]\n",
      "[]\n",
      "[['Card Number', 'Facility', 'Amount', 'Balance']]\n"
     ]
    }
   ],
   "source": [
    "accounts = [];\n",
    "pins = [];\n",
    "accountBalances = [];\n",
    "atmLog = [[\"Card Number\", \"Facility\", \"Amount\", \"Balance\"]]\n",
    "\n",
    "print(accounts);\n",
    "print(pins);\n",
    "print(accountBalances);\n",
    "print(atmLog);"
   ]
  },
  {
   "cell_type": "code",
   "execution_count": 85,
   "metadata": {},
   "outputs": [
    {
     "name": "stdout",
     "output_type": "stream",
     "text": [
      "Enter your card number : azam\n",
      "Enter your PIN : 9876\n",
      "Welcome to Dhoraji Bank Limitted!!!\n",
      "Press b for balance inquery \n",
      "d for cash deposit \n",
      "w for withdrawal\n",
      "w\n",
      "Enter withdrawal amount : 100\n",
      "Your new balance is 5900\n",
      "Thanks for using Dhoraji Bank Limitted!!!\n",
      "Go to Next Transaction??? [Y/N] :\n",
      "y\n",
      "Enter your card number : uzair\n",
      "Enter your PIN : 1234\n",
      "Welcome to Dhoraji Bank Limitted!!!\n",
      "Press b for balance inquery \n",
      "d for cash deposit \n",
      "w for withdrawal\n",
      "b\n",
      "Your current balance is 6500\n",
      "Thanks for using Dhoraji Bank Limitted!!!\n",
      "Go to Next Transaction??? [Y/N] :\n",
      "y\n",
      "Enter your card number : azam\n",
      "Enter your PIN : 9876\n",
      "Welcome to Dhoraji Bank Limitted!!!\n",
      "Press b for balance inquery \n",
      "d for cash deposit \n",
      "w for withdrawal\n",
      "b\n",
      "Your current balance is 5900\n",
      "Thanks for using Dhoraji Bank Limitted!!!\n",
      "Go to Next Transaction??? [Y/N] :\n",
      "n\n"
     ]
    }
   ],
   "source": [
    "atmTransactions = [1];\n",
    "\n",
    "for n in atmTransactions:\n",
    "    log = [];\n",
    "    cardNumber = input(\"Enter your card number : \")\n",
    "    \n",
    "    if (cardNumber.upper() in accounts):\n",
    "        # Means its existing user\n",
    "        pin = input(\"Enter your PIN : \")\n",
    "\n",
    "        if (pin in pins):\n",
    "            log.insert(0, cardNumber.upper());\n",
    "            print(\"Welcome to Dhoraji Bank Limitted!!!\")\n",
    "            facility = str(input(\"Press b for balance inquery \\nd for cash deposit \\nw for withdrawal\\n\").upper())\n",
    "            currentBalance = accountBalances[accounts.index(cardNumber.upper())];\n",
    "            log.insert(1, facility);\n",
    "\n",
    "            if (facility == \"B\"):\n",
    "                log.insert(2, 0);\n",
    "                log.insert(3, currentBalance);\n",
    "                print(\"Your current balance is {}\".format(currentBalance))                \n",
    "            elif (facility == \"D\"):\n",
    "                deposit = int(input(\"Enter deposit amount : \"));\n",
    "                currentBalance += deposit;\n",
    "                log.insert(2, deposit);\n",
    "                log.insert(3, currentBalance);\n",
    "                print(\"Your new balance is {}\".format(currentBalance));\n",
    "            elif (facility == \"W\"):\n",
    "                withdrawal = int(input(\"Enter withdrawal amount : \"))\n",
    "                if (withdrawal > currentBalance):\n",
    "                    log.insert(2, \"Invalid entry!\");\n",
    "                    log.insert(3, \"Insufficient Balance!\");\n",
    "                    print(\"Sorry! Insufficient Balance!!!\")\n",
    "                else:\n",
    "                    currentBalance -= withdrawal;\n",
    "                    log.insert(2, withdrawal);\n",
    "                    log.insert(3, currentBalance);\n",
    "                    print(\"Your new balance is {}\".format(currentBalance));\n",
    "            else:\n",
    "                log.remove(facility);\n",
    "                log.insert(1, \"Invalid entry!\");\n",
    "                log.insert(2, \"Not Entered!\");\n",
    "                log.insert(3, \"Not Entered!\");\n",
    "                print(\"Invalid entry!\")\n",
    "                \n",
    "            accountBalances[accounts.index(cardNumber.upper())] = currentBalance;\n",
    "        else:\n",
    "            log.insert(0, \"{} entered invalid PIN\".format(cardNumber));\n",
    "            log.insert(1, \"Not Entered!\");\n",
    "            log.insert(2, \"Not Entered!\");\n",
    "            log.insert(3, \"Not Entered!\");\n",
    "            print(\"Invalid PIN!\")\n",
    "    else:\n",
    "        # Means its new user\n",
    "        accounts.append(cardNumber.upper());\n",
    "        pin = input(\"Enter your PIN : \")\n",
    "        pins.append(pin);\n",
    "        log.insert(0, cardNumber.upper());\n",
    "        print(\"Welcome to Dhoraji Bank Limitted!!!\")\n",
    "        facility = str(input(\"Press b for balance inquery \\nd for cash deposit \\n\").upper())\n",
    "        currentBalance = 0;\n",
    "        log.insert(1, facility);\n",
    "\n",
    "        if (facility == \"B\"):\n",
    "            log.insert(2, 0);\n",
    "            log.insert(3, currentBalance);\n",
    "            print(\"Your current balance is {}\".format(currentBalance))\n",
    "        elif (facility == \"D\"):\n",
    "            deposit = int(input(\"Enter deposit amount : \"))\n",
    "            currentBalance += deposit\n",
    "            log.insert(2, deposit);\n",
    "            log.insert(3, currentBalance);\n",
    "            print(\"Your new balance is {}\".format(currentBalance));\n",
    "        else:\n",
    "            log.remove(facility);\n",
    "            log.insert(1, \"Invalid entry!\");\n",
    "            log.insert(2, \"Not Entered!\");\n",
    "            log.insert(3, \"Not Entered!\");\n",
    "            print(\"Invalid entry!\")\n",
    "\n",
    "        accountBalances.append(currentBalance);\n",
    "    \n",
    "    atmLog.append(log);\n",
    "    print(\"Thanks for using Dhoraji Bank Limitted!!!\")\n",
    "    nextTransaction = str(input(\"Go to Next Transaction??? [Y/N] :\\n\")).upper();\n",
    "    \n",
    "    if (nextTransaction == \"Y\"):\n",
    "        atmTransactions.append(n + 1);  "
   ]
  },
  {
   "cell_type": "code",
   "execution_count": 89,
   "metadata": {},
   "outputs": [
    {
     "name": "stdout",
     "output_type": "stream",
     "text": [
      "['UZAIR', 'AZAM']\n",
      "['1234', '9876']\n",
      "[6500, 5900]\n",
      "[['Card Number', 'Facility', 'Amount', 'Balance'], ['UZAIR', 'D', 7000, 7000], ['AZAM', 'D', 6000, 6000], ['uzair entered invalid PIN', 'Not Entered!', 'Not Entered!', 'Not Entered!'], ['UZAIR', 'Invalid entry!', 'Not Entered!', 'Not Entered!'], ['UZAIR', 'W', 500, 6500], ['azam entered invalid PIN', 'Not Entered!', 'Not Entered!', 'Not Entered!'], ['AZAM', 'W', 100, 5900], ['UZAIR', 'B', 0, 6500], ['AZAM', 'B', 0, 5900]]\n"
     ]
    }
   ],
   "source": [
    "print(accounts);\n",
    "print(pins);\n",
    "print(accountBalances);\n",
    "# print(atmTransactions);\n",
    "print(atmLog);"
   ]
  },
  {
   "cell_type": "code",
   "execution_count": 88,
   "metadata": {},
   "outputs": [
    {
     "name": "stdout",
     "output_type": "stream",
     "text": [
      "['UZAIR', 'D', 7000, 7000]\n",
      "['UZAIR', 'Invalid entry!', 'Not Entered!', 'Not Entered!']\n",
      "['UZAIR', 'W', 500, 6500]\n",
      "['UZAIR', 'B', 0, 6500]\n"
     ]
    }
   ],
   "source": [
    "for transactions in atmLog:\n",
    "    if (transactions[0] == \"UZair\".upper()):\n",
    "        print(transactions);"
   ]
  }
 ],
 "metadata": {
  "kernelspec": {
   "display_name": "Python 3",
   "language": "python",
   "name": "python3"
  },
  "language_info": {
   "codemirror_mode": {
    "name": "ipython",
    "version": 3
   },
   "file_extension": ".py",
   "mimetype": "text/x-python",
   "name": "python",
   "nbconvert_exporter": "python",
   "pygments_lexer": "ipython3",
   "version": "3.7.1"
  }
 },
 "nbformat": 4,
 "nbformat_minor": 2
}
