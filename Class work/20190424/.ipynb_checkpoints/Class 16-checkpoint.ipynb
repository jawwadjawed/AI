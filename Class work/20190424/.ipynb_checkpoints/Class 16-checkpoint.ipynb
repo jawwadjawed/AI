{
 "cells": [
  {
   "cell_type": "markdown",
   "metadata": {},
   "source": [
    "# User input and while loop"
   ]
  },
  {
   "cell_type": "code",
   "execution_count": 1,
   "metadata": {},
   "outputs": [
    {
     "name": "stdout",
     "output_type": "stream",
     "text": [
      "Enter your pizza flavour : \n",
      "Enter quit to terminate\n",
      "tikka\n",
      "Your pizza flavour is Tikka\n",
      "Enter your pizza size : \n",
      "Enter quit to terminate\n",
      "medium\n",
      "Your pizza size is Medium\n",
      "Enter your toppings : \n",
      "Enter quit to end\n",
      "> cheese\n",
      "> fajita\n",
      "> mashrooms\n",
      "> quit\n",
      "Your toppings are : \n",
      "cheese\n",
      "fajita\n",
      "mashrooms\n"
     ]
    }
   ],
   "source": [
    "getOrder = True;\n",
    "\n",
    "while getOrder:\n",
    "    flavour = input(\"Enter your pizza flavour : \\nEnter quit to terminate\\n\").lower();\n",
    "\n",
    "    if (flavour != \"quit\"):\n",
    "        print(\"Your pizza flavour is {}\".format(flavour.title()));\n",
    "\n",
    "        size = input(\"Enter your pizza size : \\nEnter quit to terminate\\n\").lower();\n",
    "\n",
    "        if (size != \"quit\"):\n",
    "            print(\"Your pizza size is {}\".format(size.title()));\n",
    "\n",
    "            topping = \"\";\n",
    "            toppings = [];\n",
    "            print(\"Enter your toppings : \\nEnter quit to end\");\n",
    "            while topping != \"quit\":\n",
    "                topping = input(\"> \").lower();\n",
    "                if topping != \"quit\":                    \n",
    "                    toppings.append(topping);\n",
    "                else:\n",
    "                    print(\"Your toppings are : \");\n",
    "                    for topp in toppings:\n",
    "                        print(topp);\n",
    "            else:\n",
    "                break;\n",
    "        else:\n",
    "            break;\n",
    "    \n",
    "        nextOrder = input(\"Do you want to order one more pizza??\\n\").lower();\n",
    "    else:\n",
    "        break;\n",
    "    \n",
    "        if (nextOrder == \"n\"):\n",
    "            getOrder = False;\n",
    "\n"
   ]
  },
  {
   "cell_type": "code",
   "execution_count": null,
   "metadata": {},
   "outputs": [],
   "source": []
  }
 ],
 "metadata": {
  "kernelspec": {
   "display_name": "Python 3",
   "language": "python",
   "name": "python3"
  },
  "language_info": {
   "codemirror_mode": {
    "name": "ipython",
    "version": 3
   },
   "file_extension": ".py",
   "mimetype": "text/x-python",
   "name": "python",
   "nbconvert_exporter": "python",
   "pygments_lexer": "ipython3",
   "version": "3.7.1"
  }
 },
 "nbformat": 4,
 "nbformat_minor": 2
}
