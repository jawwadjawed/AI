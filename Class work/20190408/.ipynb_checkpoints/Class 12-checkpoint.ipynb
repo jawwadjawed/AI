{
 "cells": [
  {
   "cell_type": "code",
   "execution_count": 4,
   "metadata": {},
   "outputs": [
    {
     "name": "stdout",
     "output_type": "stream",
     "text": [
      "My favourite pizzas are:\n",
      "tikka\n",
      "fajita\n",
      "malai boti\n",
      "tandoori\n",
      "My friend favourite pizzas are:\n",
      "tikka\n",
      "fajita\n",
      "malai boti\n",
      "afghani\n"
     ]
    }
   ],
   "source": [
    "myPizzas = [\"tikka\", \"fajita\", \"malai boti\"];\n",
    "friendsPizzas = myPizzas[:];\n",
    "\n",
    "myPizzas.append(\"tandoori\");\n",
    "friendsPizzas.append(\"afghani\");\n",
    "\n",
    "print(\"My favourite pizzas are:\");\n",
    "for p in myPizzas:\n",
    "    print(p);\n",
    "\n",
    "print(\"My friend favourite pizzas are:\");\n",
    "for fp in friendsPizzas:\n",
    "    print(fp);"
   ]
  },
  {
   "cell_type": "code",
   "execution_count": 10,
   "metadata": {},
   "outputs": [
    {
     "name": "stdout",
     "output_type": "stream",
     "text": [
      "Ahmed you will need to enter a new username\n",
      "Adeel is available\n",
      "Basit you will need to enter a new username\n",
      "Farhan is available\n",
      "Haris you will need to enter a new username\n",
      "Jamal is available\n",
      "Sultan is available\n",
      "Zeeshan is available\n"
     ]
    }
   ],
   "source": [
    "current_users = [\"ALI\", \"AHMED\", \"BASHIR\", \"BASIT\", \"DANISH\", \"HARIS\", \"IMTIAZ\"];\n",
    "new_users = [\"Ahmed\", \"Adeel\", \"Basit\", \"Farhan\", \"Haris\",\"Jamal\", \"Sultan\", \"Zeeshan\"];\n",
    "\n",
    "for u in new_users:\n",
    "    if (u.upper() in current_users):\n",
    "        print (u + \" you will need to enter a new username\");\n",
    "    else:\n",
    "        print (u + \" is available\");"
   ]
  },
  {
   "cell_type": "code",
   "execution_count": 12,
   "metadata": {},
   "outputs": [
    {
     "data": {
      "text/plain": [
       "'Pakistan'"
      ]
     },
     "execution_count": 12,
     "metadata": {},
     "output_type": "execute_result"
    }
   ],
   "source": [
    "string = \"Pakistan\";\n",
    "string;"
   ]
  },
  {
   "cell_type": "code",
   "execution_count": 15,
   "metadata": {},
   "outputs": [
    {
     "data": {
      "text/plain": [
       "'P'"
      ]
     },
     "execution_count": 15,
     "metadata": {},
     "output_type": "execute_result"
    }
   ],
   "source": [
    "string[0]"
   ]
  },
  {
   "cell_type": "code",
   "execution_count": 17,
   "metadata": {},
   "outputs": [
    {
     "data": {
      "text/plain": [
       "'kist'"
      ]
     },
     "execution_count": 17,
     "metadata": {},
     "output_type": "execute_result"
    }
   ],
   "source": [
    "string[2:6]"
   ]
  },
  {
   "cell_type": "code",
   "execution_count": 19,
   "metadata": {},
   "outputs": [
    {
     "data": {
      "text/plain": [
       "'Pakist'"
      ]
     },
     "execution_count": 19,
     "metadata": {},
     "output_type": "execute_result"
    }
   ],
   "source": [
    "string[:6]"
   ]
  },
  {
   "cell_type": "code",
   "execution_count": 22,
   "metadata": {},
   "outputs": [
    {
     "data": {
      "text/plain": [
       "'tan'"
      ]
     },
     "execution_count": 22,
     "metadata": {},
     "output_type": "execute_result"
    }
   ],
   "source": [
    "string[5:]"
   ]
  },
  {
   "cell_type": "code",
   "execution_count": 24,
   "metadata": {},
   "outputs": [
    {
     "data": {
      "text/plain": [
       "1"
      ]
     },
     "execution_count": 24,
     "metadata": {},
     "output_type": "execute_result"
    }
   ],
   "source": [
    "string.find(\"a\")"
   ]
  },
  {
   "cell_type": "code",
   "execution_count": 25,
   "metadata": {},
   "outputs": [],
   "source": [
    "#https://python-reference.readthedocs.io/en/latest/docs/str/"
   ]
  },
  {
   "cell_type": "code",
   "execution_count": 50,
   "metadata": {},
   "outputs": [
    {
     "name": "stdout",
     "output_type": "stream",
     "text": [
      "My friend name is Uzair and father name is Ashraf\n",
      "My friend name is Uzair and father name is Ashraf\n",
      "My friend name is Uzair and father name is Ashraf\n",
      "My friend name is Uzair and father name is Uzair\n",
      "My friend name is Ashraf and father name is Ashraf\n",
      "My friend name is Uzair and number is 500\n",
      "My friend name is Uzair and number is 500\n",
      "My friend name is Uzair and number is 500\n",
      "My friend name is Uzair and father name is Ashraf\n"
     ]
    }
   ],
   "source": [
    "name = \"Uzair\";\n",
    "number = 500\n",
    "fatherName = \"Ashraf\";\n",
    "\n",
    "print(\"My friend name is {} and father name is {}\".format(name, fatherName));\n",
    "print(\"My friend name is {0} and father name is {1}\".format(name, fatherName));\n",
    "print(f\"My friend name is {name} and father name is {fatherName}\".format(name, fatherName));\n",
    "\n",
    "print(\"My friend name is {0} and father name is {0}\".format(name, fatherName));\n",
    "print(\"My friend name is {1} and father name is {1}\".format(name, fatherName));\n",
    "\n",
    "print(\"My friend name is {} and number is {}\".format(name, number));\n",
    "print(\"My friend name is {0} and number is {1}\".format(name, number));\n",
    "print(f\"My friend name is {name} and number is {number}\".format(name, number));\n",
    "\n",
    "print(\"My friend name is \" + name + \" and father name is \" + fatherName);"
   ]
  },
  {
   "cell_type": "code",
   "execution_count": 41,
   "metadata": {},
   "outputs": [
    {
     "name": "stdout",
     "output_type": "stream",
     "text": [
      "Enter your name: asd\n",
      "Enter your father name: asdf\n",
      "My friend name is asd and father name is asdf\n"
     ]
    }
   ],
   "source": [
    "print(\"My friend name is {} and father name is {}\".format(input(\"Enter your name: \"), input(\"Enter your father name: \")));"
   ]
  },
  {
   "cell_type": "markdown",
   "metadata": {},
   "source": [
    "# Tuple is immutable"
   ]
  },
  {
   "cell_type": "code",
   "execution_count": 62,
   "metadata": {},
   "outputs": [],
   "source": [
    "a = 1,2,3,4 # packing of values"
   ]
  },
  {
   "cell_type": "code",
   "execution_count": 63,
   "metadata": {},
   "outputs": [
    {
     "data": {
      "text/plain": [
       "(1, 2, 3, 4)"
      ]
     },
     "execution_count": 63,
     "metadata": {},
     "output_type": "execute_result"
    }
   ],
   "source": [
    "a"
   ]
  },
  {
   "cell_type": "code",
   "execution_count": 64,
   "metadata": {},
   "outputs": [],
   "source": [
    "# Now u can unpack\n",
    "x,b,c,d = a\n"
   ]
  },
  {
   "cell_type": "code",
   "execution_count": 65,
   "metadata": {},
   "outputs": [
    {
     "data": {
      "text/plain": [
       "1"
      ]
     },
     "execution_count": 65,
     "metadata": {},
     "output_type": "execute_result"
    }
   ],
   "source": [
    "x"
   ]
  },
  {
   "cell_type": "code",
   "execution_count": 66,
   "metadata": {},
   "outputs": [
    {
     "data": {
      "text/plain": [
       "2"
      ]
     },
     "execution_count": 66,
     "metadata": {},
     "output_type": "execute_result"
    }
   ],
   "source": [
    "b"
   ]
  },
  {
   "cell_type": "code",
   "execution_count": 67,
   "metadata": {},
   "outputs": [
    {
     "data": {
      "text/plain": [
       "3"
      ]
     },
     "execution_count": 67,
     "metadata": {},
     "output_type": "execute_result"
    }
   ],
   "source": [
    "c"
   ]
  },
  {
   "cell_type": "code",
   "execution_count": 68,
   "metadata": {},
   "outputs": [
    {
     "data": {
      "text/plain": [
       "4"
      ]
     },
     "execution_count": 68,
     "metadata": {},
     "output_type": "execute_result"
    }
   ],
   "source": [
    "d"
   ]
  },
  {
   "cell_type": "code",
   "execution_count": 70,
   "metadata": {},
   "outputs": [
    {
     "data": {
      "text/plain": [
       "(1, 2, 3, 4)"
      ]
     },
     "execution_count": 70,
     "metadata": {},
     "output_type": "execute_result"
    }
   ],
   "source": [
    "a"
   ]
  },
  {
   "cell_type": "code",
   "execution_count": null,
   "metadata": {},
   "outputs": [],
   "source": []
  }
 ],
 "metadata": {
  "kernelspec": {
   "display_name": "Python 3",
   "language": "python",
   "name": "python3"
  },
  "language_info": {
   "codemirror_mode": {
    "name": "ipython",
    "version": 3
   },
   "file_extension": ".py",
   "mimetype": "text/x-python",
   "name": "python",
   "nbconvert_exporter": "python",
   "pygments_lexer": "ipython3",
   "version": "3.7.1"
  }
 },
 "nbformat": 4,
 "nbformat_minor": 2
}
