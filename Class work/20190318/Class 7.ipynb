{
 "cells": [
  {
   "cell_type": "code",
   "execution_count": null,
   "metadata": {},
   "outputs": [],
   "source": [
    "t = float(input(\"temperature \"))\n",
    "if t > 25:\n",
    "    print ('garam')\n",
    "else:\n",
    "    print ('thanda')"
   ]
  },
  {
   "cell_type": "code",
   "execution_count": 32,
   "metadata": {},
   "outputs": [
    {
     "name": "stdout",
     "output_type": "stream",
     "text": [
      "Enter your Urdu marks!! 0\n",
      "Enter your English marks!! 98\n",
      "Enter your Physics marks!! 98\n",
      "Enter your Chemistry marks!! 98\n",
      "Enter your Maths marks!! 98\n",
      "Your Percentage is 78.4\n",
      "Your Grade is Grade B\n",
      "Your total marks are 392.0\n"
     ]
    }
   ],
   "source": [
    "Urdu = float ( input (\"Enter your Urdu marks!! \") )\n",
    "\n",
    "English = float ( input (\"Enter your English marks!! \") )\n",
    "Physics = float ( input (\"Enter your Physics marks!! \") )\n",
    "Chemistry = float ( input (\"Enter your Chemistry marks!! \") )\n",
    "Maths = float ( input (\"Enter your Maths marks!! \") )\n",
    "\n",
    "totalMarks = Urdu + English + Physics + Chemistry + Maths\n",
    "percentage = round((totalMarks / 500) * 100,2)\n",
    "\n",
    "grade = \"F\"\n",
    "\n",
    "if percentage > 100:\n",
    "    print(\"Wrong marks input!!\")\n",
    "elif percentage > 90:\n",
    "    grade = \"Grade A+\"\n",
    "elif percentage > 80:\n",
    "    grade = \"Grade A\"\n",
    "elif percentage > 70:\n",
    "    grade = \"Grade B\"\n",
    "elif percentage > 60:\n",
    "    grade = \"Grade C\"\n",
    "elif percentage > 50:\n",
    "    grade = \"Grade D\"\n",
    "else:\n",
    "    print(\"You are fail!!\")\n",
    "    \n",
    "print ( \"Your Percentage is \" + str( percentage ) + \"\\nYour Grade is \" + str ( grade ) + \"\\nYour total marks are \" + str( totalMarks ) )"
   ]
  },
  {
   "cell_type": "code",
   "execution_count": null,
   "metadata": {},
   "outputs": [],
   "source": []
  }
 ],
 "metadata": {
  "kernelspec": {
   "display_name": "Python 3",
   "language": "python",
   "name": "python3"
  },
  "language_info": {
   "codemirror_mode": {
    "name": "ipython",
    "version": 3
   },
   "file_extension": ".py",
   "mimetype": "text/x-python",
   "name": "python",
   "nbconvert_exporter": "python",
   "pygments_lexer": "ipython3",
   "version": "3.7.1"
  }
 },
 "nbformat": 4,
 "nbformat_minor": 2
}
