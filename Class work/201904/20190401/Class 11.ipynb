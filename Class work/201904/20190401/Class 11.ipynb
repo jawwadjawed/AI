{
 "cells": [
  {
   "cell_type": "markdown",
   "metadata": {},
   "source": [
    "# For Loop"
   ]
  },
  {
   "cell_type": "code",
   "execution_count": 22,
   "metadata": {},
   "outputs": [
    {
     "name": "stdout",
     "output_type": "stream",
     "text": [
      "Uzair 0\n",
      "Uzair 1\n",
      "Uzair 2\n",
      "Uzair 3\n",
      "Uzair 4\n",
      "Uzair 5\n",
      "Uzair 6\n",
      "Uzair 7\n",
      "Uzair 8\n",
      "Uzair 9\n"
     ]
    }
   ],
   "source": [
    "for name in range(10):\n",
    "    print(\"Uzair\", name);"
   ]
  },
  {
   "cell_type": "code",
   "execution_count": 24,
   "metadata": {},
   "outputs": [
    {
     "name": "stdout",
     "output_type": "stream",
     "text": [
      "Uzair 1\n",
      "Uzair 2\n",
      "Uzair 3\n",
      "Uzair 4\n",
      "Uzair 5\n",
      "Uzair 6\n",
      "Uzair 7\n",
      "Uzair 8\n",
      "Uzair 9\n",
      "Uzair 10\n"
     ]
    }
   ],
   "source": [
    "for name in range(1, 11):\n",
    "    print(\"Uzair\", name)"
   ]
  },
  {
   "cell_type": "code",
   "execution_count": 26,
   "metadata": {},
   "outputs": [
    {
     "name": "stdout",
     "output_type": "stream",
     "text": [
      "Uzair 1\n",
      "Uzair 3\n",
      "Uzair 5\n",
      "Uzair 7\n",
      "Uzair 9\n"
     ]
    }
   ],
   "source": [
    "for name in range(1, 11, 2):\n",
    "    print(\"Uzair\", name);"
   ]
  },
  {
   "cell_type": "code",
   "execution_count": 40,
   "metadata": {},
   "outputs": [
    {
     "name": "stdout",
     "output_type": "stream",
     "text": [
      "1\n",
      "3\n",
      "5\n",
      "7\n",
      "9\n"
     ]
    }
   ],
   "source": [
    "for a in range(1,10,2):\n",
    "    print(a);"
   ]
  },
  {
   "cell_type": "markdown",
   "metadata": {},
   "source": [
    "# Access members of list using for loop"
   ]
  },
  {
   "cell_type": "code",
   "execution_count": 32,
   "metadata": {},
   "outputs": [
    {
     "name": "stdout",
     "output_type": "stream",
     "text": [
      "1\n",
      "2\n",
      "3\n",
      "4\n",
      "5\n",
      "6\n",
      "7\n",
      "8\n",
      "9\n"
     ]
    }
   ],
   "source": [
    "lsit1 = [1,2,3,4,5,6,7,8,9]\n",
    "\n",
    "for a in lsit1:\n",
    "    print(a);"
   ]
  },
  {
   "cell_type": "code",
   "execution_count": 42,
   "metadata": {},
   "outputs": [
    {
     "name": "stdout",
     "output_type": "stream",
     "text": [
      "1 <class 'int'>\n",
      "2 <class 'int'>\n",
      "3 <class 'int'>\n",
      "4 <class 'int'>\n",
      "5 <class 'str'>\n",
      "6 <class 'int'>\n",
      "7 <class 'int'>\n",
      "True <class 'bool'>\n",
      "9 <class 'int'>\n"
     ]
    }
   ],
   "source": [
    "lsit1 = [1,2,3,4,\"5\",6,7,True,9]\n",
    "\n",
    "for a in lsit1:\n",
    "    print(a, type(a));"
   ]
  },
  {
   "cell_type": "code",
   "execution_count": 43,
   "metadata": {},
   "outputs": [
    {
     "name": "stdout",
     "output_type": "stream",
     "text": [
      "2\n",
      "4\n",
      "6\n",
      "8\n",
      "10\n",
      "12\n",
      "14\n"
     ]
    }
   ],
   "source": [
    "list1 = [1,2,3,4,5,6,7,8,9,10,11,12,13,14,15]\n",
    "\n",
    "for a in list1:\n",
    "    if (a % 2 == 0):\n",
    "        print (a);        "
   ]
  },
  {
   "cell_type": "code",
   "execution_count": 45,
   "metadata": {},
   "outputs": [
    {
     "name": "stdout",
     "output_type": "stream",
     "text": [
      "1\n",
      "3\n",
      "5\n",
      "7\n",
      "9\n",
      "11\n",
      "13\n",
      "15\n"
     ]
    }
   ],
   "source": [
    "for a in list1:\n",
    "    if (a % 2 != 0):\n",
    "        print (a);        "
   ]
  },
  {
   "cell_type": "code",
   "execution_count": 48,
   "metadata": {},
   "outputs": [
    {
     "name": "stdout",
     "output_type": "stream",
     "text": [
      "1 is odd\n",
      "2 is even\n",
      "3 is odd\n",
      "4 is even\n",
      "5 is odd\n",
      "6 is even\n",
      "7 is odd\n",
      "8 is even\n",
      "9 is odd\n",
      "10 is even\n",
      "11 is odd\n",
      "12 is even\n",
      "13 is odd\n",
      "14 is even\n",
      "15 is odd\n"
     ]
    }
   ],
   "source": [
    "for a in list1:\n",
    "    if (a % 2 != 0):\n",
    "        print (str(a) + \" is odd\");\n",
    "    else:\n",
    "        print (str(a) + \" is even\");"
   ]
  },
  {
   "cell_type": "code",
   "execution_count": 65,
   "metadata": {},
   "outputs": [
    {
     "name": "stdout",
     "output_type": "stream",
     "text": [
      "These are odd numbers : 1, 3, 5, 7, 9, 11, 13, 15, and 2, 4, 6, 8, 10, 12, 14, are even numbers\n"
     ]
    }
   ],
   "source": [
    "oddNumberList = []\n",
    "evenNumberList = []\n",
    "message = \"\"\n",
    "for a in list1:\n",
    "    if (a % 2 != 0):\n",
    "        oddNumberList.append(a)\n",
    "    else:\n",
    "        evenNumberList.append(a)\n",
    "        \n",
    "message += \"These are odd numbers : \"\n",
    "\n",
    "for odd in oddNumberList:\n",
    "    message += str(odd) + \", \"\n",
    "   \n",
    "message += \"and \"\n",
    "\n",
    "for even in evenNumberList:\n",
    "    message += str(even) + \", \"\n",
    "    \n",
    "message += \"are even numbers\"\n",
    "print(message)"
   ]
  },
  {
   "cell_type": "code",
   "execution_count": 66,
   "metadata": {},
   "outputs": [
    {
     "name": "stdout",
     "output_type": "stream",
     "text": [
      "These are close friends \n",
      "Bashir\n",
      "Junaid\n",
      "Siraj\n"
     ]
    }
   ],
   "source": [
    "friends = [\"Aslam\", \"Babar\", \"Bashir\", \"Danish\", \"Faizan\", \"Hammad\", \"Ilyas\", \"Junaid\", \"Siraj\"];\n",
    "relatives = [\"Asghar\", \"Bashir\", \"Junaid\", \"Siraj\", \"Suleman\"];\n",
    "print(\"These are close friends \");\n",
    "\n",
    "for cf in relatives:\n",
    "    if (cf in friends):\n",
    "        print(cf);"
   ]
  },
  {
   "cell_type": "code",
   "execution_count": 1,
   "metadata": {},
   "outputs": [
    {
     "name": "stdout",
     "output_type": "stream",
     "text": [
      "Bashir\n",
      "Danish\n",
      "Faizan\n",
      "Hammad\n",
      "Ilyas\n",
      "Junaid\n",
      "Siraj\n"
     ]
    }
   ],
   "source": [
    "names = [\"Aslam\", \"Babar\", \"Bashir\", \"Danish\", \"Faizan\", \"Hammad\", \"Ilyas\", \"Junaid\", \"Siraj\"];\n",
    "\n",
    "for name in names[2:]:\n",
    "    print(name);"
   ]
  },
  {
   "cell_type": "code",
   "execution_count": 3,
   "metadata": {},
   "outputs": [
    {
     "name": "stdout",
     "output_type": "stream",
     "text": [
      "Aslam\n",
      "Babar\n",
      "Bashir\n",
      "Danish\n",
      "Faizan\n",
      "Hammad\n",
      "Ilyas\n"
     ]
    }
   ],
   "source": [
    "names = [\"Aslam\", \"Babar\", \"Bashir\", \"Danish\", \"Faizan\", \"Hammad\", \"Ilyas\", \"Junaid\", \"Siraj\"];\n",
    "\n",
    "for name in names[:7]:\n",
    "    print(name);"
   ]
  },
  {
   "cell_type": "code",
   "execution_count": 4,
   "metadata": {},
   "outputs": [
    {
     "name": "stdout",
     "output_type": "stream",
     "text": [
      "Hammad\n",
      "Ilyas\n"
     ]
    }
   ],
   "source": [
    "names = [\"Aslam\", \"Babar\", \"Bashir\", \"Danish\", \"Faizan\", \"Hammad\", \"Ilyas\", \"Junaid\", \"Siraj\"];\n",
    "\n",
    "for name in names[5:7]:\n",
    "    print(name);"
   ]
  }
 ],
 "metadata": {
  "kernelspec": {
   "display_name": "Python 3",
   "language": "python",
   "name": "python3"
  },
  "language_info": {
   "codemirror_mode": {
    "name": "ipython",
    "version": 3
   },
   "file_extension": ".py",
   "mimetype": "text/x-python",
   "name": "python",
   "nbconvert_exporter": "python",
   "pygments_lexer": "ipython3",
   "version": "3.7.1"
  }
 },
 "nbformat": 4,
 "nbformat_minor": 2
}
