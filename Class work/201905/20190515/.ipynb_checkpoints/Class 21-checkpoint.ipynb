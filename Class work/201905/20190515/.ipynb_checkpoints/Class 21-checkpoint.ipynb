{
 "cells": [
  {
   "cell_type": "markdown",
   "metadata": {},
   "source": [
    "### Last class remaining task as follow"
   ]
  },
  {
   "cell_type": "code",
   "execution_count": 10,
   "metadata": {},
   "outputs": [
    {
     "name": "stdout",
     "output_type": "stream",
     "text": [
      "My first name is Uzair.\n",
      "My last name is Ashraf.\n",
      "My age is 25.\n",
      "My gender is male.\n"
     ]
    }
   ],
   "source": [
    "def human(firstName, lastName, age, gender):\n",
    "    person = {\"first name\" : firstName, \"last name\" : lastName, \"age\" : age, \"gender\" : gender};\n",
    "    \n",
    "    for key, value in person.items():\n",
    "        print(f\"My {key} is {value}.\");\n",
    "        \n",
    "human(\"Uzair\", \"Ashraf\", 25, \"male\")"
   ]
  },
  {
   "cell_type": "markdown",
   "metadata": {},
   "source": [
    "### Default parameter"
   ]
  },
  {
   "cell_type": "code",
   "execution_count": 22,
   "metadata": {},
   "outputs": [],
   "source": [
    "def myCar(name, company = \"Honda\", model = 2012):\n",
    "    print(f\"I have a {name}.\");\n",
    "    print(f\"Its company is {company}.\");"
   ]
  },
  {
   "cell_type": "code",
   "execution_count": 23,
   "metadata": {},
   "outputs": [
    {
     "name": "stdout",
     "output_type": "stream",
     "text": [
      "I have a City.\n",
      "Its company is Honda.\n"
     ]
    }
   ],
   "source": [
    "myCar(\"City\");"
   ]
  },
  {
   "cell_type": "code",
   "execution_count": 25,
   "metadata": {},
   "outputs": [
    {
     "name": "stdout",
     "output_type": "stream",
     "text": [
      "First Name : Uzair\n",
      "Middle Name : Ashraf\n",
      "Last Name : Kunda\n"
     ]
    }
   ],
   "source": [
    "def printForm(firstName, lastName, middleName = \"\"):\n",
    "    print(f\"First Name : {firstName}\");\n",
    "    \n",
    "    if (middleName != \"\"):\n",
    "        print(f\"Middle Name : {middleName}\");\n",
    "    \n",
    "    print(f\"Last Name : {lastName}\");\n",
    "    \n",
    "printForm(\"Uzair\", \"Kunda\", \"Ashraf\")"
   ]
  },
  {
   "cell_type": "markdown",
   "metadata": {},
   "source": [
    "### Better way to do above task is as follow"
   ]
  },
  {
   "cell_type": "code",
   "execution_count": 32,
   "metadata": {},
   "outputs": [
    {
     "name": "stdout",
     "output_type": "stream",
     "text": [
      "Uzair Kunda\n"
     ]
    }
   ],
   "source": [
    "def printName(firstName, lastName, middleName = \"\"):\n",
    "    if (middleName == \"\"):\n",
    "        return firstName + \" \" + lastName;\n",
    "    else:\n",
    "        return firstName + \" \" + middleName + \" \" + lastName;\n",
    "    \n",
    "print(printName(\"Uzair\", \"Kunda\"));"
   ]
  },
  {
   "cell_type": "code",
   "execution_count": 45,
   "metadata": {},
   "outputs": [
    {
     "name": "stdout",
     "output_type": "stream",
     "text": [
      "Name : Uzair Ashraf Kunda, Age : 21, Address : Home\n"
     ]
    }
   ],
   "source": [
    "def printInformation(firstName, lastName, middleName = \"\", age = 0, address = \"\"):\n",
    "    result = \"Name : \";\n",
    "    \n",
    "    result += firstName;\n",
    "    \n",
    "    if (middleName != \"\"):\n",
    "        result += \" \" + middleName;\n",
    "        \n",
    "    result += \" \" + lastName;\n",
    "    \n",
    "    if (age != 0):\n",
    "        result += \", Age : \" + str(age);\n",
    "    \n",
    "    if (address != \"\"):\n",
    "        result += \", Address : \" + address;\n",
    "        \n",
    "    return result;\n",
    "        \n",
    "print(printInformation(\"Uzair\", \"Kunda\", \"Ashraf\", 21, \"Home\"))"
   ]
  },
  {
   "cell_type": "code",
   "execution_count": 56,
   "metadata": {},
   "outputs": [
    {
     "ename": "TypeError",
     "evalue": "pizza() takes 2 positional arguments but 5 were given",
     "output_type": "error",
     "traceback": [
      "\u001b[1;31m---------------------------------------------------------------------------\u001b[0m",
      "\u001b[1;31mTypeError\u001b[0m                                 Traceback (most recent call last)",
      "\u001b[1;32m<ipython-input-56-9e168289d945>\u001b[0m in \u001b[0;36m<module>\u001b[1;34m\u001b[0m\n\u001b[0;32m      7\u001b[0m \u001b[1;33m\u001b[0m\u001b[0m\n\u001b[0;32m      8\u001b[0m \u001b[1;33m\u001b[0m\u001b[0m\n\u001b[1;32m----> 9\u001b[1;33m \u001b[0mpizza\u001b[0m\u001b[1;33m(\u001b[0m\u001b[1;34m\"Thaal\"\u001b[0m\u001b[1;33m,\u001b[0m \u001b[1;34m\"Deep thaal\"\u001b[0m\u001b[1;33m,\u001b[0m \u001b[1;34m\"Bread\"\u001b[0m\u001b[1;33m,\u001b[0m \u001b[1;34m\"Samaraat\"\u001b[0m\u001b[1;33m,\u001b[0m \u001b[1;34m\"Meavea\"\u001b[0m\u001b[1;33m)\u001b[0m\u001b[1;33m\u001b[0m\u001b[1;33m\u001b[0m\u001b[0m\n\u001b[0m",
      "\u001b[1;31mTypeError\u001b[0m: pizza() takes 2 positional arguments but 5 were given"
     ]
    }
   ],
   "source": [
    "def pizza(container, stuff ,**toppings):\n",
    "    \n",
    "    print(toppings);\n",
    "    \n",
    "    for topping in toppings:\n",
    "        print(topping);\n",
    "        \n",
    "        \n",
    "pizza(\"Thaal\", \"Deep thaal\", \"Bread\", \"Samaraat\", \"Meavea\")"
   ]
  },
  {
   "cell_type": "code",
   "execution_count": null,
   "metadata": {},
   "outputs": [],
   "source": []
  }
 ],
 "metadata": {
  "kernelspec": {
   "display_name": "Python 3",
   "language": "python",
   "name": "python3"
  },
  "language_info": {
   "codemirror_mode": {
    "name": "ipython",
    "version": 3
   },
   "file_extension": ".py",
   "mimetype": "text/x-python",
   "name": "python",
   "nbconvert_exporter": "python",
   "pygments_lexer": "ipython3",
   "version": "3.7.1"
  }
 },
 "nbformat": 4,
 "nbformat_minor": 2
}
