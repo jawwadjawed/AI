{
 "cells": [
  {
   "cell_type": "markdown",
   "metadata": {},
   "source": [
    "### List Comprehension"
   ]
  },
  {
   "cell_type": "code",
   "execution_count": 12,
   "metadata": {},
   "outputs": [],
   "source": [
    "aList = [1,2,3,4,5,6];\n",
    "# index starts from 0"
   ]
  },
  {
   "cell_type": "code",
   "execution_count": 13,
   "metadata": {},
   "outputs": [
    {
     "name": "stdout",
     "output_type": "stream",
     "text": [
      "[0, 2, 4, 6, 8, 10, 12, 14, 16, 18, 20, 22, 24, 26, 28]\n"
     ]
    }
   ],
   "source": [
    "eList = [];\n",
    "\n",
    "for a in range(0,30):\n",
    "    if a%2 == 0:\n",
    "        eList.append(a);\n",
    "        \n",
    "print(eList);"
   ]
  },
  {
   "cell_type": "code",
   "execution_count": 16,
   "metadata": {},
   "outputs": [
    {
     "name": "stdout",
     "output_type": "stream",
     "text": [
      "[0, 2, 4, 6, 8, 10, 12, 14, 16, 18, 20, 22, 24, 26, 28]\n"
     ]
    }
   ],
   "source": [
    "eList = [a for a in range(0, 30) if a% 2 == 0]\n",
    "print(eList);"
   ]
  },
  {
   "cell_type": "code",
   "execution_count": 17,
   "metadata": {},
   "outputs": [
    {
     "data": {
      "text/plain": [
       "[1, 4, 9, 16, 25, 36, 49, 64, 81]"
      ]
     },
     "execution_count": 17,
     "metadata": {},
     "output_type": "execute_result"
    }
   ],
   "source": [
    "# Make list of squares of 1 to 10\n",
    "[x**2 for x in range(1, 10)]"
   ]
  },
  {
   "cell_type": "code",
   "execution_count": null,
   "metadata": {},
   "outputs": [],
   "source": [
    "# Make list of cubes of 1 to 10\n",
    "[x**3 for x in range(1, 10)]"
   ]
  },
  {
   "cell_type": "code",
   "execution_count": 18,
   "metadata": {},
   "outputs": [
    {
     "data": {
      "text/plain": [
       "[1, 9, 25, 49, 81]"
      ]
     },
     "execution_count": 18,
     "metadata": {},
     "output_type": "execute_result"
    }
   ],
   "source": [
    "[x**2 for x in range(1, 10) if x % 2 != 0]"
   ]
  },
  {
   "cell_type": "code",
   "execution_count": 19,
   "metadata": {},
   "outputs": [
    {
     "data": {
      "text/plain": [
       "[(1, 3), (1, 4), (2, 3), (2, 1), (2, 4), (3, 1), (3, 4)]"
      ]
     },
     "execution_count": 19,
     "metadata": {},
     "output_type": "execute_result"
    }
   ],
   "source": [
    "[(x, y) for x in [1,2,3] for y in [3,1,4] if x != y]"
   ]
  },
  {
   "cell_type": "code",
   "execution_count": null,
   "metadata": {},
   "outputs": [],
   "source": [
    "[(x, y) for x in [1,2,3] for y in [3,1,4]]"
   ]
  },
  {
   "cell_type": "code",
   "execution_count": 21,
   "metadata": {},
   "outputs": [
    {
     "data": {
      "text/plain": [
       "[1, 2, 3, 4, 5, 6, 7, 8, 9]"
      ]
     },
     "execution_count": 21,
     "metadata": {},
     "output_type": "execute_result"
    }
   ],
   "source": [
    "vec = [-4, -2, 0, 2, 4];\n",
    "\n",
    "# Create a new list with the values doubled\n",
    "[x*2 for x in vec];\n",
    "\n",
    "# Filter the list to exclude negative numbers\n",
    "[x for x in vec if x >= 0];\n",
    "\n",
    "# Apply a function to all element\n",
    "[abs(x) for x in vec];\n",
    "\n",
    "# Call a method on each element\n",
    "freshFruit = [\"banana\", \" laganberry \", \"passion fruit\"];\n",
    "\n",
    "[a.strip() for a in freshFruit];\n",
    "\n",
    "# Create a  list of 2 tuples like (number, square)\n",
    "[(x, x**2) for x in range(1, 6)];\n",
    "\n",
    "# Flatten a list using a listcomp with two 'for'\n",
    "vec = [[1,2,3], [4,5,6], [7,8,9]];\n",
    "[num for elem in vec for num in elem]"
   ]
  },
  {
   "cell_type": "code",
   "execution_count": 22,
   "metadata": {},
   "outputs": [
    {
     "name": "stdout",
     "output_type": "stream",
     "text": [
      "------------Uzair-------------\n",
      "Uzair-------------------------\n",
      "-------------------------Uzair\n",
      "            Uzair             \n",
      "Uzair                         \n",
      "                         Uzair\n"
     ]
    }
   ],
   "source": [
    "name = \"Uzair\";\n",
    "\n",
    "print(name.center(30, \"-\"));\n",
    "\n",
    "print(name.ljust(30, \"-\"));\n",
    "\n",
    "print(name.rjust(30, \"-\"));\n",
    "\n",
    "print(name.center(30));\n",
    "\n",
    "print(name.ljust(30));\n",
    "\n",
    "print(name.rjust(30));"
   ]
  },
  {
   "cell_type": "code",
   "execution_count": 11,
   "metadata": {},
   "outputs": [
    {
     "name": "stdout",
     "output_type": "stream",
     "text": [
      "[1, 2, 3, 4, 5, 6, 7, 8]\n",
      "9\n"
     ]
    }
   ],
   "source": [
    "ekList = [1,2,3,4,5,6,7,8,9];\n",
    "popedElement = ekList.pop();\n",
    "print(ekList);\n",
    "print(popedElement);"
   ]
  },
  {
   "cell_type": "code",
   "execution_count": 23,
   "metadata": {},
   "outputs": [],
   "source": [
    "popedElement = ekList.pop()"
   ]
  },
  {
   "cell_type": "code",
   "execution_count": 25,
   "metadata": {},
   "outputs": [
    {
     "name": "stdout",
     "output_type": "stream",
     "text": [
      "['task 1', 'task 2', 'task 3', 'task 4']\n",
      "[]\n"
     ]
    }
   ],
   "source": [
    "todoList = [\"task 1\", \"task 2\", \"task 3\", \"task 4\"];\n",
    "doneList = [];\n",
    "\n",
    "print (todoList);\n",
    "print (doneList);"
   ]
  },
  {
   "cell_type": "code",
   "execution_count": 31,
   "metadata": {},
   "outputs": [
    {
     "name": "stdout",
     "output_type": "stream",
     "text": [
      "Please enter completed task : lkajsdf\n",
      "Your to do list is empty\n",
      "[]\n",
      "['task 1', 'task 2', 'task 3', 'task 4']\n"
     ]
    }
   ],
   "source": [
    "completedTask = input(\"Please enter completed task : \");\n",
    "if (completedTask in todoList):\n",
    "    todoList.pop(todoList.index(completedTask.lower()));\n",
    "    doneList.append(completedTask.lower());\n",
    "elif len(todoList) == 0:\n",
    "    print(\"Your to do list is empty\");\n",
    "else:\n",
    "    print(\"This task is not in list\");\n",
    "print (todoList);\n",
    "print (doneList);"
   ]
  },
  {
   "cell_type": "code",
   "execution_count": null,
   "metadata": {},
   "outputs": [],
   "source": []
  }
 ],
 "metadata": {
  "kernelspec": {
   "display_name": "Python 3",
   "language": "python",
   "name": "python3"
  },
  "language_info": {
   "codemirror_mode": {
    "name": "ipython",
    "version": 3
   },
   "file_extension": ".py",
   "mimetype": "text/x-python",
   "name": "python",
   "nbconvert_exporter": "python",
   "pygments_lexer": "ipython3",
   "version": "3.7.1"
  }
 },
 "nbformat": 4,
 "nbformat_minor": 2
}
