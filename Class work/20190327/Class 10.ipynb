{
 "cells": [
  {
   "cell_type": "code",
   "execution_count": null,
   "metadata": {},
   "outputs": [],
   "source": [
    "# Slicing\n",
    "# Slicing works only left to right"
   ]
  },
  {
   "cell_type": "code",
   "execution_count": null,
   "metadata": {},
   "outputs": [],
   "source": [
    "list1 = [1 ,2 ,3 ,4 ,5 ,6 ,7 ,8 ,9 ];\n",
    "#index  [0 ,1 ,2 ,3 ,4 ,5 ,6 ,7 ,8 ];\n",
    "#index  [-9,-8,-7,-6,-5,-4,-3,-2,-1 ];\n",
    "\n",
    "list2 = list1[3:5];\n",
    "print(list2)\n",
    "\n",
    "list3 = list1[-6:-4];\n",
    "list3"
   ]
  },
  {
   "cell_type": "code",
   "execution_count": null,
   "metadata": {},
   "outputs": [],
   "source": [
    "list1 = [8,3,5,6,2,1];\n",
    "list1.sort();\n",
    "print(list1);\n",
    "list1.sort(reverse = True);\n",
    "print(list1);\n",
    "list1 = [8,3,5,6,2,1];\n",
    "print(list1);"
   ]
  },
  {
   "cell_type": "code",
   "execution_count": null,
   "metadata": {},
   "outputs": [],
   "source": [
    "guestsList = [\"Shaan\", \"John\", \"Salman\", \"Talpade\", \"Jojo\"];"
   ]
  },
  {
   "cell_type": "code",
   "execution_count": null,
   "metadata": {},
   "outputs": [],
   "source": [
    "print(guestsList);\n",
    "guest = guestsList[0];\n",
    "\n",
    "if (guest in guestsList):\n",
    "    guestsList.pop(guestsList.index(guest));\n",
    "    print(\"Mr. \" + guest + \", You are invited at dinner my home.\");"
   ]
  },
  {
   "cell_type": "code",
   "execution_count": null,
   "metadata": {},
   "outputs": [],
   "source": [
    "print(guestsList)"
   ]
  },
  {
   "cell_type": "code",
   "execution_count": null,
   "metadata": {},
   "outputs": [],
   "source": [
    "guestsList.insert(0, \"Malik\");\n",
    "guestsList.insert(3, \"Masood\");\n",
    "guestsList.append(\"Fareed\");"
   ]
  },
  {
   "cell_type": "code",
   "execution_count": null,
   "metadata": {},
   "outputs": [],
   "source": [
    "print(guestsList);"
   ]
  },
  {
   "cell_type": "code",
   "execution_count": null,
   "metadata": {},
   "outputs": [],
   "source": [
    "print(\"Mr. \" + guestsList[0] + \" You are invited at dinner at my home.\")\n",
    "print(\"Mr. \" + guestsList[1] + \" You are invited at dinner at my home.\")\n",
    "print(\"Mr. \" + guestsList[2] + \" You are invited at dinner at my home.\")\n",
    "print(\"Mr. \" + guestsList[3] + \" You are invited at dinner at my home.\")\n",
    "print(\"Mr. \" + guestsList[4] + \" You are invited at dinner at my home.\")\n",
    "print(\"Mr. \" + guestsList[5] + \" You are invited at dinner at my home.\")\n",
    "print(\"Mr. \" + guestsList[6] + \" You are invited at dinner at my home.\")\n",
    "print(\"Mr. \" + guestsList[7] + \" You are invited at dinner at my home.\")"
   ]
  },
  {
   "cell_type": "code",
   "execution_count": null,
   "metadata": {},
   "outputs": [],
   "source": [
    "guestList = [];\n",
    "guestList.extend(\"9875\");\n",
    "print(guestList);"
   ]
  },
  {
   "cell_type": "code",
   "execution_count": null,
   "metadata": {},
   "outputs": [],
   "source": [
    "print(min(guestList));"
   ]
  },
  {
   "cell_type": "code",
   "execution_count": null,
   "metadata": {},
   "outputs": [],
   "source": [
    "names = [\"xyz\", \"acd\", \"hij\", \"bca\", \"acb\", \"ab\",\"abc\",\"xzz\"];\n",
    "max(names)"
   ]
  },
  {
   "cell_type": "code",
   "execution_count": null,
   "metadata": {},
   "outputs": [],
   "source": []
  }
 ],
 "metadata": {
  "kernelspec": {
   "display_name": "Python 3",
   "language": "python",
   "name": "python3"
  },
  "language_info": {
   "codemirror_mode": {
    "name": "ipython",
    "version": 3
   },
   "file_extension": ".py",
   "mimetype": "text/x-python",
   "name": "python",
   "nbconvert_exporter": "python",
   "pygments_lexer": "ipython3",
   "version": "3.7.1"
  }
 },
 "nbformat": 4,
 "nbformat_minor": 2
}
