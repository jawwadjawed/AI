{
 "cells": [
  {
   "cell_type": "markdown",
   "metadata": {},
   "source": [
    "# Function"
   ]
  },
  {
   "cell_type": "code",
   "execution_count": 2,
   "metadata": {},
   "outputs": [
    {
     "name": "stdout",
     "output_type": "stream",
     "text": [
      "Assalam O Alaikum\n"
     ]
    }
   ],
   "source": [
    "def fn():\n",
    "    print(\"Assalam O Alaikum\");\n",
    "    \n",
    "fn()"
   ]
  },
  {
   "cell_type": "code",
   "execution_count": 3,
   "metadata": {},
   "outputs": [
    {
     "name": "stdout",
     "output_type": "stream",
     "text": [
      "Assalam O Alaikum\n",
      "Assalam O Alaikum\n",
      "Assalam O Alaikum\n",
      "Assalam O Alaikum\n",
      "Assalam O Alaikum\n"
     ]
    }
   ],
   "source": [
    "fn()\n",
    "fn()\n",
    "fn()\n",
    "fn()\n",
    "fn()"
   ]
  },
  {
   "cell_type": "code",
   "execution_count": 8,
   "metadata": {},
   "outputs": [],
   "source": [
    "def SumTowNumbers():\n",
    "    print(2+3);"
   ]
  },
  {
   "cell_type": "code",
   "execution_count": 9,
   "metadata": {},
   "outputs": [
    {
     "name": "stdout",
     "output_type": "stream",
     "text": [
      "5\n"
     ]
    }
   ],
   "source": [
    "SumTowNumbers();"
   ]
  },
  {
   "cell_type": "code",
   "execution_count": 11,
   "metadata": {},
   "outputs": [
    {
     "name": "stdout",
     "output_type": "stream",
     "text": [
      "22\n"
     ]
    }
   ],
   "source": [
    "def PerformMathOperation(a, b, c):\n",
    "    return a * b - c;\n",
    "\n",
    "d = PerformMathOperation(6, 4, 2);\n",
    "print(d);"
   ]
  },
  {
   "cell_type": "code",
   "execution_count": 25,
   "metadata": {},
   "outputs": [],
   "source": [
    "def SumTwoNumbers(a, b):\n",
    "    return a + b;"
   ]
  },
  {
   "cell_type": "code",
   "execution_count": 21,
   "metadata": {},
   "outputs": [
    {
     "name": "stdout",
     "output_type": "stream",
     "text": [
      "5\n"
     ]
    }
   ],
   "source": [
    "result = SumTwoNumbers(10, 15);\n",
    "print(result // 5);"
   ]
  },
  {
   "cell_type": "code",
   "execution_count": 26,
   "metadata": {},
   "outputs": [],
   "source": [
    "def SumTwoNumbers(a, b):\n",
    "    return a + b;\n",
    "    print(1)"
   ]
  },
  {
   "cell_type": "code",
   "execution_count": 27,
   "metadata": {},
   "outputs": [
    {
     "name": "stdout",
     "output_type": "stream",
     "text": [
      "1\n"
     ]
    }
   ],
   "source": [
    "def SumTwoNumbers(a, b):\n",
    "    return a + b;\n",
    "print(1)"
   ]
  },
  {
   "cell_type": "code",
   "execution_count": 29,
   "metadata": {},
   "outputs": [
    {
     "name": "stdout",
     "output_type": "stream",
     "text": [
      "Name of student is Uzair \n",
      "Total marks are 213\n"
     ]
    }
   ],
   "source": [
    "def StudentResult(name, m1, m2, m3, m4):\n",
    "    total = m1 + m2 + m3 + m4;\n",
    "    print(f\"Name of student is {name} \\nTotal marks are {total}\");\n",
    "    \n",
    "StudentResult(\"Uzair\", 59, 40, 35, 79);\n",
    "    "
   ]
  },
  {
   "cell_type": "code",
   "execution_count": 30,
   "metadata": {},
   "outputs": [
    {
     "name": "stdout",
     "output_type": "stream",
     "text": [
      "Name of student is Jabbar \n",
      "Total marks are 390\n"
     ]
    }
   ],
   "source": [
    "StudentResult(\"Jabbar\", 99, 98, 97, 96);"
   ]
  },
  {
   "cell_type": "code",
   "execution_count": 36,
   "metadata": {},
   "outputs": [
    {
     "name": "stdout",
     "output_type": "stream",
     "text": [
      "Enter name :Hamza\n",
      "Enter English marks :10\n",
      "Enter Maths marks :20\n",
      "Enter Urdu marks :30\n",
      "Enter Science marks :40\n",
      "Name of student is Hamza \n",
      "Total marks are 100.0 \n",
      "Percentage is 25.0 \n",
      "Grade is F\n"
     ]
    }
   ],
   "source": [
    "name = input(\"Enter name :\");\n",
    "m1 = input(\"Enter English marks :\");\n",
    "m2 = input(\"Enter Maths marks :\");\n",
    "m3 = input(\"Enter Urdu marks :\");\n",
    "m4 = input(\"Enter Science marks :\");\n",
    "\n",
    "def GenerateResult(name, m1, m2, m3, m4):\n",
    "    total = float(m1) + float(m2) + float(m3) + float(m4);\n",
    "    percentage = (total / 400) * 100;\n",
    "    grade = \"\";\n",
    "    \n",
    "    if (percentage < 100):\n",
    "        if (percentage > 90 and percentage < 100):\n",
    "            grade = \"A+\";\n",
    "        elif (percentage > 80 and percentage < 90):\n",
    "            grade = \"B\";\n",
    "        elif (percentage > 70 and percentage < 80):\n",
    "            grade = \"C\";\n",
    "        elif (percentage > 60 and percentage < 70):\n",
    "            grade = \"D\";\n",
    "        elif (percentage > 50 and percentage < 60):\n",
    "            grade = \"E\";\n",
    "        else:\n",
    "            grade = \"F\";\n",
    "\n",
    "        print(f\"Name of student is {name} \\nTotal marks are {total} \\nPercentage is {percentage} \\nGrade is {grade}\");\n",
    "    else:\n",
    "        print(\"Invalid marks!!!\");\n",
    "        \n",
    "GenerateResult(name, m1, m2, m3, m4)"
   ]
  },
  {
   "cell_type": "code",
   "execution_count": null,
   "metadata": {},
   "outputs": [],
   "source": []
  }
 ],
 "metadata": {
  "kernelspec": {
   "display_name": "Python 3",
   "language": "python",
   "name": "python3"
  },
  "language_info": {
   "codemirror_mode": {
    "name": "ipython",
    "version": 3
   },
   "file_extension": ".py",
   "mimetype": "text/x-python",
   "name": "python",
   "nbconvert_exporter": "python",
   "pygments_lexer": "ipython3",
   "version": "3.7.1"
  }
 },
 "nbformat": 4,
 "nbformat_minor": 2
}
